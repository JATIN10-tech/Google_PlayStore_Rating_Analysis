{
 "cells": [
  {
   "cell_type": "markdown",
   "id": "711bf0ff",
   "metadata": {},
   "source": [
    "<h3>Context:</h3>\n",
    "\n",
    "The Play Store apps data has enormous potential to drive app-making businesses to success. However, many\n",
    "apps are being developed every single day and only a few of them become profitable. It is important for\n",
    "developers to be able to predict the success of their app and incorporate features which makes an app\n",
    "successful. Before any such predictive-study can be done, it is necessary to do EDA and data-preprocessing on\n",
    "the apps data available for google app store applications. From the collected apps data and user ratings from\n",
    "the app stores, let's try to extract insightful information."
   ]
  },
  {
   "cell_type": "markdown",
   "id": "8827b89d",
   "metadata": {},
   "source": [
    "<h3>Objective:</h3>\n",
    "\n",
    "The Goal is to explore the data and pre-process it for future use in any predictive analytics study."
   ]
  },
  {
   "cell_type": "markdown",
   "id": "0ff7357e",
   "metadata": {},
   "source": [
    "<h3>Questions:-</h3>\n",
    "    \n",
    "<h4>1. Import required libraries and read the dataset.</h4>"
   ]
  },
  {
   "cell_type": "code",
   "execution_count": 3,
   "id": "d7a0b214",
   "metadata": {
    "ExecuteTime": {
     "end_time": "2024-02-26T17:37:22.992016Z",
     "start_time": "2024-02-26T17:37:22.825303Z"
    }
   },
   "outputs": [],
   "source": [
    "#importing the required libraries\n",
    "import pandas as pd \n",
    "import numpy as np\n",
    "\n",
    "import matplotlib.pyplot as plt\n",
    "import seaborn as sns"
   ]
  },
  {
   "cell_type": "code",
   "execution_count": 4,
   "id": "020d34b9",
   "metadata": {
    "ExecuteTime": {
     "end_time": "2024-02-26T17:37:23.048104Z",
     "start_time": "2024-02-26T17:37:22.994016Z"
    }
   },
   "outputs": [],
   "source": [
    "# Reading the dataset and naming it as df.\n",
    "df = pd.read_csv('Apps_data.csv')"
   ]
  },
  {
   "cell_type": "markdown",
   "id": "08ecfc9c",
   "metadata": {},
   "source": [
    "<h4>2. Check the first few samples, shape, info of the data and try to familiarize yourself with different features.</h4>"
   ]
  },
  {
   "cell_type": "code",
   "execution_count": 5,
   "id": "4c886ff2",
   "metadata": {
    "ExecuteTime": {
     "end_time": "2024-02-26T17:37:23.069904Z",
     "start_time": "2024-02-26T17:37:23.050101Z"
    },
    "scrolled": true
   },
   "outputs": [
    {
     "data": {
      "text/html": [
       "<div>\n",
       "<style scoped>\n",
       "    .dataframe tbody tr th:only-of-type {\n",
       "        vertical-align: middle;\n",
       "    }\n",
       "\n",
       "    .dataframe tbody tr th {\n",
       "        vertical-align: top;\n",
       "    }\n",
       "\n",
       "    .dataframe thead th {\n",
       "        text-align: right;\n",
       "    }\n",
       "</style>\n",
       "<table border=\"1\" class=\"dataframe\">\n",
       "  <thead>\n",
       "    <tr style=\"text-align: right;\">\n",
       "      <th></th>\n",
       "      <th>App</th>\n",
       "      <th>Category</th>\n",
       "      <th>Rating</th>\n",
       "      <th>Reviews</th>\n",
       "      <th>Size</th>\n",
       "      <th>Installs</th>\n",
       "      <th>Type</th>\n",
       "      <th>Price</th>\n",
       "      <th>Content Rating</th>\n",
       "      <th>Genres</th>\n",
       "      <th>Last Updated</th>\n",
       "      <th>Current Ver</th>\n",
       "      <th>Android Ver</th>\n",
       "    </tr>\n",
       "  </thead>\n",
       "  <tbody>\n",
       "    <tr>\n",
       "      <th>0</th>\n",
       "      <td>Photo Editor &amp; Candy Camera &amp; Grid &amp; ScrapBook</td>\n",
       "      <td>ART_AND_DESIGN</td>\n",
       "      <td>4.1</td>\n",
       "      <td>159</td>\n",
       "      <td>19M</td>\n",
       "      <td>10,000+</td>\n",
       "      <td>Free</td>\n",
       "      <td>0</td>\n",
       "      <td>Everyone</td>\n",
       "      <td>Art &amp; Design</td>\n",
       "      <td>January 7, 2018</td>\n",
       "      <td>1.0.0</td>\n",
       "      <td>4.0.3 and up</td>\n",
       "    </tr>\n",
       "    <tr>\n",
       "      <th>1</th>\n",
       "      <td>Coloring book moana</td>\n",
       "      <td>ART_AND_DESIGN</td>\n",
       "      <td>3.9</td>\n",
       "      <td>967</td>\n",
       "      <td>14M</td>\n",
       "      <td>500,000+</td>\n",
       "      <td>Free</td>\n",
       "      <td>0</td>\n",
       "      <td>Everyone</td>\n",
       "      <td>Art &amp; Design;Pretend Play</td>\n",
       "      <td>January 15, 2018</td>\n",
       "      <td>2.0.0</td>\n",
       "      <td>4.0.3 and up</td>\n",
       "    </tr>\n",
       "    <tr>\n",
       "      <th>2</th>\n",
       "      <td>U Launcher Lite – FREE Live Cool Themes, Hide ...</td>\n",
       "      <td>ART_AND_DESIGN</td>\n",
       "      <td>4.7</td>\n",
       "      <td>87510</td>\n",
       "      <td>8.7M</td>\n",
       "      <td>5,000,000+</td>\n",
       "      <td>Free</td>\n",
       "      <td>0</td>\n",
       "      <td>Everyone</td>\n",
       "      <td>Art &amp; Design</td>\n",
       "      <td>August 1, 2018</td>\n",
       "      <td>1.2.4</td>\n",
       "      <td>4.0.3 and up</td>\n",
       "    </tr>\n",
       "    <tr>\n",
       "      <th>3</th>\n",
       "      <td>Sketch - Draw &amp; Paint</td>\n",
       "      <td>ART_AND_DESIGN</td>\n",
       "      <td>4.5</td>\n",
       "      <td>215644</td>\n",
       "      <td>25M</td>\n",
       "      <td>50,000,000+</td>\n",
       "      <td>Free</td>\n",
       "      <td>0</td>\n",
       "      <td>Teen</td>\n",
       "      <td>Art &amp; Design</td>\n",
       "      <td>June 8, 2018</td>\n",
       "      <td>Varies with device</td>\n",
       "      <td>4.2 and up</td>\n",
       "    </tr>\n",
       "    <tr>\n",
       "      <th>4</th>\n",
       "      <td>Pixel Draw - Number Art Coloring Book</td>\n",
       "      <td>ART_AND_DESIGN</td>\n",
       "      <td>4.3</td>\n",
       "      <td>967</td>\n",
       "      <td>2.8M</td>\n",
       "      <td>100,000+</td>\n",
       "      <td>Free</td>\n",
       "      <td>0</td>\n",
       "      <td>Everyone</td>\n",
       "      <td>Art &amp; Design;Creativity</td>\n",
       "      <td>June 20, 2018</td>\n",
       "      <td>1.1</td>\n",
       "      <td>4.4 and up</td>\n",
       "    </tr>\n",
       "  </tbody>\n",
       "</table>\n",
       "</div>"
      ],
      "text/plain": [
       "                                                 App        Category  Rating  \\\n",
       "0     Photo Editor & Candy Camera & Grid & ScrapBook  ART_AND_DESIGN     4.1   \n",
       "1                                Coloring book moana  ART_AND_DESIGN     3.9   \n",
       "2  U Launcher Lite – FREE Live Cool Themes, Hide ...  ART_AND_DESIGN     4.7   \n",
       "3                              Sketch - Draw & Paint  ART_AND_DESIGN     4.5   \n",
       "4              Pixel Draw - Number Art Coloring Book  ART_AND_DESIGN     4.3   \n",
       "\n",
       "  Reviews  Size     Installs  Type Price Content Rating  \\\n",
       "0     159   19M      10,000+  Free     0       Everyone   \n",
       "1     967   14M     500,000+  Free     0       Everyone   \n",
       "2   87510  8.7M   5,000,000+  Free     0       Everyone   \n",
       "3  215644   25M  50,000,000+  Free     0           Teen   \n",
       "4     967  2.8M     100,000+  Free     0       Everyone   \n",
       "\n",
       "                      Genres      Last Updated         Current Ver  \\\n",
       "0               Art & Design   January 7, 2018               1.0.0   \n",
       "1  Art & Design;Pretend Play  January 15, 2018               2.0.0   \n",
       "2               Art & Design    August 1, 2018               1.2.4   \n",
       "3               Art & Design      June 8, 2018  Varies with device   \n",
       "4    Art & Design;Creativity     June 20, 2018                 1.1   \n",
       "\n",
       "    Android Ver  \n",
       "0  4.0.3 and up  \n",
       "1  4.0.3 and up  \n",
       "2  4.0.3 and up  \n",
       "3    4.2 and up  \n",
       "4    4.4 and up  "
      ]
     },
     "execution_count": 5,
     "metadata": {},
     "output_type": "execute_result"
    }
   ],
   "source": [
    "# Calculating top 5 Rows of the dataset.\n",
    "df.head()"
   ]
  },
  {
   "cell_type": "code",
   "execution_count": 6,
   "id": "47e3d74e",
   "metadata": {
    "ExecuteTime": {
     "end_time": "2024-02-26T17:37:23.085285Z",
     "start_time": "2024-02-26T17:37:23.072899Z"
    },
    "scrolled": true
   },
   "outputs": [
    {
     "data": {
      "text/html": [
       "<div>\n",
       "<style scoped>\n",
       "    .dataframe tbody tr th:only-of-type {\n",
       "        vertical-align: middle;\n",
       "    }\n",
       "\n",
       "    .dataframe tbody tr th {\n",
       "        vertical-align: top;\n",
       "    }\n",
       "\n",
       "    .dataframe thead th {\n",
       "        text-align: right;\n",
       "    }\n",
       "</style>\n",
       "<table border=\"1\" class=\"dataframe\">\n",
       "  <thead>\n",
       "    <tr style=\"text-align: right;\">\n",
       "      <th></th>\n",
       "      <th>App</th>\n",
       "      <th>Category</th>\n",
       "      <th>Rating</th>\n",
       "      <th>Reviews</th>\n",
       "      <th>Size</th>\n",
       "      <th>Installs</th>\n",
       "      <th>Type</th>\n",
       "      <th>Price</th>\n",
       "      <th>Content Rating</th>\n",
       "      <th>Genres</th>\n",
       "      <th>Last Updated</th>\n",
       "      <th>Current Ver</th>\n",
       "      <th>Android Ver</th>\n",
       "    </tr>\n",
       "  </thead>\n",
       "  <tbody>\n",
       "    <tr>\n",
       "      <th>10836</th>\n",
       "      <td>Sya9a Maroc - FR</td>\n",
       "      <td>FAMILY</td>\n",
       "      <td>4.5</td>\n",
       "      <td>38</td>\n",
       "      <td>53M</td>\n",
       "      <td>5,000+</td>\n",
       "      <td>Free</td>\n",
       "      <td>0</td>\n",
       "      <td>Everyone</td>\n",
       "      <td>Education</td>\n",
       "      <td>July 25, 2017</td>\n",
       "      <td>1.48</td>\n",
       "      <td>4.1 and up</td>\n",
       "    </tr>\n",
       "    <tr>\n",
       "      <th>10837</th>\n",
       "      <td>Fr. Mike Schmitz Audio Teachings</td>\n",
       "      <td>FAMILY</td>\n",
       "      <td>5.0</td>\n",
       "      <td>4</td>\n",
       "      <td>3.6M</td>\n",
       "      <td>100+</td>\n",
       "      <td>Free</td>\n",
       "      <td>0</td>\n",
       "      <td>Everyone</td>\n",
       "      <td>Education</td>\n",
       "      <td>July 6, 2018</td>\n",
       "      <td>1.0</td>\n",
       "      <td>4.1 and up</td>\n",
       "    </tr>\n",
       "    <tr>\n",
       "      <th>10838</th>\n",
       "      <td>Parkinson Exercices FR</td>\n",
       "      <td>MEDICAL</td>\n",
       "      <td>NaN</td>\n",
       "      <td>3</td>\n",
       "      <td>9.5M</td>\n",
       "      <td>1,000+</td>\n",
       "      <td>Free</td>\n",
       "      <td>0</td>\n",
       "      <td>Everyone</td>\n",
       "      <td>Medical</td>\n",
       "      <td>January 20, 2017</td>\n",
       "      <td>1.0</td>\n",
       "      <td>2.2 and up</td>\n",
       "    </tr>\n",
       "    <tr>\n",
       "      <th>10839</th>\n",
       "      <td>The SCP Foundation DB fr nn5n</td>\n",
       "      <td>BOOKS_AND_REFERENCE</td>\n",
       "      <td>4.5</td>\n",
       "      <td>114</td>\n",
       "      <td>Varies with device</td>\n",
       "      <td>1,000+</td>\n",
       "      <td>Free</td>\n",
       "      <td>0</td>\n",
       "      <td>Mature 17+</td>\n",
       "      <td>Books &amp; Reference</td>\n",
       "      <td>January 19, 2015</td>\n",
       "      <td>Varies with device</td>\n",
       "      <td>Varies with device</td>\n",
       "    </tr>\n",
       "    <tr>\n",
       "      <th>10840</th>\n",
       "      <td>iHoroscope - 2018 Daily Horoscope &amp; Astrology</td>\n",
       "      <td>LIFESTYLE</td>\n",
       "      <td>4.5</td>\n",
       "      <td>398307</td>\n",
       "      <td>19M</td>\n",
       "      <td>10,000,000+</td>\n",
       "      <td>Free</td>\n",
       "      <td>0</td>\n",
       "      <td>Everyone</td>\n",
       "      <td>Lifestyle</td>\n",
       "      <td>July 25, 2018</td>\n",
       "      <td>Varies with device</td>\n",
       "      <td>Varies with device</td>\n",
       "    </tr>\n",
       "  </tbody>\n",
       "</table>\n",
       "</div>"
      ],
      "text/plain": [
       "                                                 App             Category  \\\n",
       "10836                               Sya9a Maroc - FR               FAMILY   \n",
       "10837               Fr. Mike Schmitz Audio Teachings               FAMILY   \n",
       "10838                         Parkinson Exercices FR              MEDICAL   \n",
       "10839                  The SCP Foundation DB fr nn5n  BOOKS_AND_REFERENCE   \n",
       "10840  iHoroscope - 2018 Daily Horoscope & Astrology            LIFESTYLE   \n",
       "\n",
       "       Rating Reviews                Size     Installs  Type Price  \\\n",
       "10836     4.5      38                 53M       5,000+  Free     0   \n",
       "10837     5.0       4                3.6M         100+  Free     0   \n",
       "10838     NaN       3                9.5M       1,000+  Free     0   \n",
       "10839     4.5     114  Varies with device       1,000+  Free     0   \n",
       "10840     4.5  398307                 19M  10,000,000+  Free     0   \n",
       "\n",
       "      Content Rating             Genres      Last Updated         Current Ver  \\\n",
       "10836       Everyone          Education     July 25, 2017                1.48   \n",
       "10837       Everyone          Education      July 6, 2018                 1.0   \n",
       "10838       Everyone            Medical  January 20, 2017                 1.0   \n",
       "10839     Mature 17+  Books & Reference  January 19, 2015  Varies with device   \n",
       "10840       Everyone          Lifestyle     July 25, 2018  Varies with device   \n",
       "\n",
       "              Android Ver  \n",
       "10836          4.1 and up  \n",
       "10837          4.1 and up  \n",
       "10838          2.2 and up  \n",
       "10839  Varies with device  \n",
       "10840  Varies with device  "
      ]
     },
     "execution_count": 6,
     "metadata": {},
     "output_type": "execute_result"
    }
   ],
   "source": [
    "# Calculating bottom 5 Rows of the dataset.\n",
    "df.tail()"
   ]
  },
  {
   "cell_type": "code",
   "execution_count": 7,
   "id": "a8d08823",
   "metadata": {
    "ExecuteTime": {
     "end_time": "2024-02-26T17:37:23.101291Z",
     "start_time": "2024-02-26T17:37:23.087289Z"
    }
   },
   "outputs": [
    {
     "name": "stdout",
     "output_type": "stream",
     "text": [
      "<class 'pandas.core.frame.DataFrame'>\n",
      "RangeIndex: 10841 entries, 0 to 10840\n",
      "Data columns (total 13 columns):\n",
      " #   Column          Non-Null Count  Dtype  \n",
      "---  ------          --------------  -----  \n",
      " 0   App             10841 non-null  object \n",
      " 1   Category        10841 non-null  object \n",
      " 2   Rating          9367 non-null   float64\n",
      " 3   Reviews         10841 non-null  object \n",
      " 4   Size            10841 non-null  object \n",
      " 5   Installs        10841 non-null  object \n",
      " 6   Type            10840 non-null  object \n",
      " 7   Price           10841 non-null  object \n",
      " 8   Content Rating  10840 non-null  object \n",
      " 9   Genres          10841 non-null  object \n",
      " 10  Last Updated    10841 non-null  object \n",
      " 11  Current Ver     10833 non-null  object \n",
      " 12  Android Ver     10838 non-null  object \n",
      "dtypes: float64(1), object(12)\n",
      "memory usage: 1.1+ MB\n"
     ]
    }
   ],
   "source": [
    "# Basic information about data and it's types\n",
    "df.info()"
   ]
  },
  {
   "cell_type": "code",
   "execution_count": 8,
   "id": "828ab359",
   "metadata": {
    "ExecuteTime": {
     "end_time": "2024-02-26T17:37:23.108138Z",
     "start_time": "2024-02-26T17:37:23.102339Z"
    }
   },
   "outputs": [
    {
     "data": {
      "text/plain": [
       "(10841, 13)"
      ]
     },
     "execution_count": 8,
     "metadata": {},
     "output_type": "execute_result"
    }
   ],
   "source": [
    "# Calculating number of rows & columns.\n",
    "df.shape"
   ]
  },
  {
   "cell_type": "markdown",
   "id": "1602023c",
   "metadata": {},
   "source": [
    "<h4>3. Check summary statistics of the dataset. List out the columns that need to be worked upon for model\n",
    "building.</h4>"
   ]
  },
  {
   "cell_type": "code",
   "execution_count": 9,
   "id": "4dfc8bdd",
   "metadata": {
    "ExecuteTime": {
     "end_time": "2024-02-26T17:37:23.120662Z",
     "start_time": "2024-02-26T17:37:23.110138Z"
    }
   },
   "outputs": [
    {
     "data": {
      "text/html": [
       "<div>\n",
       "<style scoped>\n",
       "    .dataframe tbody tr th:only-of-type {\n",
       "        vertical-align: middle;\n",
       "    }\n",
       "\n",
       "    .dataframe tbody tr th {\n",
       "        vertical-align: top;\n",
       "    }\n",
       "\n",
       "    .dataframe thead th {\n",
       "        text-align: right;\n",
       "    }\n",
       "</style>\n",
       "<table border=\"1\" class=\"dataframe\">\n",
       "  <thead>\n",
       "    <tr style=\"text-align: right;\">\n",
       "      <th></th>\n",
       "      <th>Rating</th>\n",
       "    </tr>\n",
       "  </thead>\n",
       "  <tbody>\n",
       "    <tr>\n",
       "      <th>count</th>\n",
       "      <td>9367.000000</td>\n",
       "    </tr>\n",
       "    <tr>\n",
       "      <th>mean</th>\n",
       "      <td>4.193338</td>\n",
       "    </tr>\n",
       "    <tr>\n",
       "      <th>std</th>\n",
       "      <td>0.537431</td>\n",
       "    </tr>\n",
       "    <tr>\n",
       "      <th>min</th>\n",
       "      <td>1.000000</td>\n",
       "    </tr>\n",
       "    <tr>\n",
       "      <th>25%</th>\n",
       "      <td>4.000000</td>\n",
       "    </tr>\n",
       "    <tr>\n",
       "      <th>50%</th>\n",
       "      <td>4.300000</td>\n",
       "    </tr>\n",
       "    <tr>\n",
       "      <th>75%</th>\n",
       "      <td>4.500000</td>\n",
       "    </tr>\n",
       "    <tr>\n",
       "      <th>max</th>\n",
       "      <td>19.000000</td>\n",
       "    </tr>\n",
       "  </tbody>\n",
       "</table>\n",
       "</div>"
      ],
      "text/plain": [
       "            Rating\n",
       "count  9367.000000\n",
       "mean      4.193338\n",
       "std       0.537431\n",
       "min       1.000000\n",
       "25%       4.000000\n",
       "50%       4.300000\n",
       "75%       4.500000\n",
       "max      19.000000"
      ]
     },
     "execution_count": 9,
     "metadata": {},
     "output_type": "execute_result"
    }
   ],
   "source": [
    "df.describe()"
   ]
  },
  {
   "cell_type": "code",
   "execution_count": 10,
   "id": "abb2728d",
   "metadata": {
    "ExecuteTime": {
     "end_time": "2024-02-26T17:37:23.211447Z",
     "start_time": "2024-02-26T17:37:23.122660Z"
    }
   },
   "outputs": [
    {
     "data": {
      "text/html": [
       "<div>\n",
       "<style scoped>\n",
       "    .dataframe tbody tr th:only-of-type {\n",
       "        vertical-align: middle;\n",
       "    }\n",
       "\n",
       "    .dataframe tbody tr th {\n",
       "        vertical-align: top;\n",
       "    }\n",
       "\n",
       "    .dataframe thead th {\n",
       "        text-align: right;\n",
       "    }\n",
       "</style>\n",
       "<table border=\"1\" class=\"dataframe\">\n",
       "  <thead>\n",
       "    <tr style=\"text-align: right;\">\n",
       "      <th></th>\n",
       "      <th>App</th>\n",
       "      <th>Category</th>\n",
       "      <th>Rating</th>\n",
       "      <th>Reviews</th>\n",
       "      <th>Size</th>\n",
       "      <th>Installs</th>\n",
       "      <th>Type</th>\n",
       "      <th>Price</th>\n",
       "      <th>Content Rating</th>\n",
       "      <th>Genres</th>\n",
       "      <th>Last Updated</th>\n",
       "      <th>Current Ver</th>\n",
       "      <th>Android Ver</th>\n",
       "    </tr>\n",
       "  </thead>\n",
       "  <tbody>\n",
       "    <tr>\n",
       "      <th>count</th>\n",
       "      <td>10841</td>\n",
       "      <td>10841</td>\n",
       "      <td>9367.000000</td>\n",
       "      <td>10841</td>\n",
       "      <td>10841</td>\n",
       "      <td>10841</td>\n",
       "      <td>10840</td>\n",
       "      <td>10841</td>\n",
       "      <td>10840</td>\n",
       "      <td>10841</td>\n",
       "      <td>10841</td>\n",
       "      <td>10833</td>\n",
       "      <td>10838</td>\n",
       "    </tr>\n",
       "    <tr>\n",
       "      <th>unique</th>\n",
       "      <td>9660</td>\n",
       "      <td>34</td>\n",
       "      <td>NaN</td>\n",
       "      <td>6002</td>\n",
       "      <td>462</td>\n",
       "      <td>22</td>\n",
       "      <td>3</td>\n",
       "      <td>93</td>\n",
       "      <td>6</td>\n",
       "      <td>120</td>\n",
       "      <td>1378</td>\n",
       "      <td>2832</td>\n",
       "      <td>33</td>\n",
       "    </tr>\n",
       "    <tr>\n",
       "      <th>top</th>\n",
       "      <td>ROBLOX</td>\n",
       "      <td>FAMILY</td>\n",
       "      <td>NaN</td>\n",
       "      <td>0</td>\n",
       "      <td>Varies with device</td>\n",
       "      <td>1,000,000+</td>\n",
       "      <td>Free</td>\n",
       "      <td>0</td>\n",
       "      <td>Everyone</td>\n",
       "      <td>Tools</td>\n",
       "      <td>August 3, 2018</td>\n",
       "      <td>Varies with device</td>\n",
       "      <td>4.1 and up</td>\n",
       "    </tr>\n",
       "    <tr>\n",
       "      <th>freq</th>\n",
       "      <td>9</td>\n",
       "      <td>1972</td>\n",
       "      <td>NaN</td>\n",
       "      <td>596</td>\n",
       "      <td>1695</td>\n",
       "      <td>1579</td>\n",
       "      <td>10039</td>\n",
       "      <td>10040</td>\n",
       "      <td>8714</td>\n",
       "      <td>842</td>\n",
       "      <td>326</td>\n",
       "      <td>1459</td>\n",
       "      <td>2451</td>\n",
       "    </tr>\n",
       "    <tr>\n",
       "      <th>mean</th>\n",
       "      <td>NaN</td>\n",
       "      <td>NaN</td>\n",
       "      <td>4.193338</td>\n",
       "      <td>NaN</td>\n",
       "      <td>NaN</td>\n",
       "      <td>NaN</td>\n",
       "      <td>NaN</td>\n",
       "      <td>NaN</td>\n",
       "      <td>NaN</td>\n",
       "      <td>NaN</td>\n",
       "      <td>NaN</td>\n",
       "      <td>NaN</td>\n",
       "      <td>NaN</td>\n",
       "    </tr>\n",
       "    <tr>\n",
       "      <th>std</th>\n",
       "      <td>NaN</td>\n",
       "      <td>NaN</td>\n",
       "      <td>0.537431</td>\n",
       "      <td>NaN</td>\n",
       "      <td>NaN</td>\n",
       "      <td>NaN</td>\n",
       "      <td>NaN</td>\n",
       "      <td>NaN</td>\n",
       "      <td>NaN</td>\n",
       "      <td>NaN</td>\n",
       "      <td>NaN</td>\n",
       "      <td>NaN</td>\n",
       "      <td>NaN</td>\n",
       "    </tr>\n",
       "    <tr>\n",
       "      <th>min</th>\n",
       "      <td>NaN</td>\n",
       "      <td>NaN</td>\n",
       "      <td>1.000000</td>\n",
       "      <td>NaN</td>\n",
       "      <td>NaN</td>\n",
       "      <td>NaN</td>\n",
       "      <td>NaN</td>\n",
       "      <td>NaN</td>\n",
       "      <td>NaN</td>\n",
       "      <td>NaN</td>\n",
       "      <td>NaN</td>\n",
       "      <td>NaN</td>\n",
       "      <td>NaN</td>\n",
       "    </tr>\n",
       "    <tr>\n",
       "      <th>25%</th>\n",
       "      <td>NaN</td>\n",
       "      <td>NaN</td>\n",
       "      <td>4.000000</td>\n",
       "      <td>NaN</td>\n",
       "      <td>NaN</td>\n",
       "      <td>NaN</td>\n",
       "      <td>NaN</td>\n",
       "      <td>NaN</td>\n",
       "      <td>NaN</td>\n",
       "      <td>NaN</td>\n",
       "      <td>NaN</td>\n",
       "      <td>NaN</td>\n",
       "      <td>NaN</td>\n",
       "    </tr>\n",
       "    <tr>\n",
       "      <th>50%</th>\n",
       "      <td>NaN</td>\n",
       "      <td>NaN</td>\n",
       "      <td>4.300000</td>\n",
       "      <td>NaN</td>\n",
       "      <td>NaN</td>\n",
       "      <td>NaN</td>\n",
       "      <td>NaN</td>\n",
       "      <td>NaN</td>\n",
       "      <td>NaN</td>\n",
       "      <td>NaN</td>\n",
       "      <td>NaN</td>\n",
       "      <td>NaN</td>\n",
       "      <td>NaN</td>\n",
       "    </tr>\n",
       "    <tr>\n",
       "      <th>75%</th>\n",
       "      <td>NaN</td>\n",
       "      <td>NaN</td>\n",
       "      <td>4.500000</td>\n",
       "      <td>NaN</td>\n",
       "      <td>NaN</td>\n",
       "      <td>NaN</td>\n",
       "      <td>NaN</td>\n",
       "      <td>NaN</td>\n",
       "      <td>NaN</td>\n",
       "      <td>NaN</td>\n",
       "      <td>NaN</td>\n",
       "      <td>NaN</td>\n",
       "      <td>NaN</td>\n",
       "    </tr>\n",
       "    <tr>\n",
       "      <th>max</th>\n",
       "      <td>NaN</td>\n",
       "      <td>NaN</td>\n",
       "      <td>19.000000</td>\n",
       "      <td>NaN</td>\n",
       "      <td>NaN</td>\n",
       "      <td>NaN</td>\n",
       "      <td>NaN</td>\n",
       "      <td>NaN</td>\n",
       "      <td>NaN</td>\n",
       "      <td>NaN</td>\n",
       "      <td>NaN</td>\n",
       "      <td>NaN</td>\n",
       "      <td>NaN</td>\n",
       "    </tr>\n",
       "  </tbody>\n",
       "</table>\n",
       "</div>"
      ],
      "text/plain": [
       "           App Category       Rating Reviews                Size    Installs  \\\n",
       "count    10841    10841  9367.000000   10841               10841       10841   \n",
       "unique    9660       34          NaN    6002                 462          22   \n",
       "top     ROBLOX   FAMILY          NaN       0  Varies with device  1,000,000+   \n",
       "freq         9     1972          NaN     596                1695        1579   \n",
       "mean       NaN      NaN     4.193338     NaN                 NaN         NaN   \n",
       "std        NaN      NaN     0.537431     NaN                 NaN         NaN   \n",
       "min        NaN      NaN     1.000000     NaN                 NaN         NaN   \n",
       "25%        NaN      NaN     4.000000     NaN                 NaN         NaN   \n",
       "50%        NaN      NaN     4.300000     NaN                 NaN         NaN   \n",
       "75%        NaN      NaN     4.500000     NaN                 NaN         NaN   \n",
       "max        NaN      NaN    19.000000     NaN                 NaN         NaN   \n",
       "\n",
       "         Type  Price Content Rating Genres    Last Updated  \\\n",
       "count   10840  10841          10840  10841           10841   \n",
       "unique      3     93              6    120            1378   \n",
       "top      Free      0       Everyone  Tools  August 3, 2018   \n",
       "freq    10039  10040           8714    842             326   \n",
       "mean      NaN    NaN            NaN    NaN             NaN   \n",
       "std       NaN    NaN            NaN    NaN             NaN   \n",
       "min       NaN    NaN            NaN    NaN             NaN   \n",
       "25%       NaN    NaN            NaN    NaN             NaN   \n",
       "50%       NaN    NaN            NaN    NaN             NaN   \n",
       "75%       NaN    NaN            NaN    NaN             NaN   \n",
       "max       NaN    NaN            NaN    NaN             NaN   \n",
       "\n",
       "               Current Ver Android Ver  \n",
       "count                10833       10838  \n",
       "unique                2832          33  \n",
       "top     Varies with device  4.1 and up  \n",
       "freq                  1459        2451  \n",
       "mean                   NaN         NaN  \n",
       "std                    NaN         NaN  \n",
       "min                    NaN         NaN  \n",
       "25%                    NaN         NaN  \n",
       "50%                    NaN         NaN  \n",
       "75%                    NaN         NaN  \n",
       "max                    NaN         NaN  "
      ]
     },
     "execution_count": 10,
     "metadata": {},
     "output_type": "execute_result"
    }
   ],
   "source": [
    "#Calculating the statistics for all the features\n",
    "df.describe(include='all')"
   ]
  },
  {
   "cell_type": "code",
   "execution_count": 11,
   "id": "5a29e8f2",
   "metadata": {
    "ExecuteTime": {
     "end_time": "2024-02-26T17:37:23.217595Z",
     "start_time": "2024-02-26T17:37:23.213447Z"
    }
   },
   "outputs": [
    {
     "name": "stdout",
     "output_type": "stream",
     "text": [
      "1. Rating\n",
      "2. Type\n",
      "3. Content Rating\n",
      "4. Price\n",
      "5. Category\n",
      "6. Reviews\n"
     ]
    }
   ],
   "source": [
    "\"\"\"The Features that are required to be worked upon for model building are : \"\"\"\n",
    "print(\"1. Rating\")\n",
    "print(\"2. Type\")\n",
    "print(\"3. Content Rating\")\n",
    "print(\"4. Price\")\n",
    "print(\"5. Category\")\n",
    "print(\"6. Reviews\")"
   ]
  },
  {
   "cell_type": "markdown",
   "id": "94d9a6e6",
   "metadata": {},
   "source": [
    "<h4>4. Check if there are any duplicate records in the dataset? if any drop them.</h4>"
   ]
  },
  {
   "cell_type": "code",
   "execution_count": 12,
   "id": "862898a0",
   "metadata": {
    "ExecuteTime": {
     "end_time": "2024-02-26T17:37:23.250039Z",
     "start_time": "2024-02-26T17:37:23.221627Z"
    },
    "scrolled": true
   },
   "outputs": [
    {
     "data": {
      "text/html": [
       "<div>\n",
       "<style scoped>\n",
       "    .dataframe tbody tr th:only-of-type {\n",
       "        vertical-align: middle;\n",
       "    }\n",
       "\n",
       "    .dataframe tbody tr th {\n",
       "        vertical-align: top;\n",
       "    }\n",
       "\n",
       "    .dataframe thead th {\n",
       "        text-align: right;\n",
       "    }\n",
       "</style>\n",
       "<table border=\"1\" class=\"dataframe\">\n",
       "  <thead>\n",
       "    <tr style=\"text-align: right;\">\n",
       "      <th></th>\n",
       "      <th>App</th>\n",
       "      <th>Category</th>\n",
       "      <th>Rating</th>\n",
       "      <th>Reviews</th>\n",
       "      <th>Size</th>\n",
       "      <th>Installs</th>\n",
       "      <th>Type</th>\n",
       "      <th>Price</th>\n",
       "      <th>Content Rating</th>\n",
       "      <th>Genres</th>\n",
       "      <th>Last Updated</th>\n",
       "      <th>Current Ver</th>\n",
       "      <th>Android Ver</th>\n",
       "    </tr>\n",
       "  </thead>\n",
       "  <tbody>\n",
       "    <tr>\n",
       "      <th>229</th>\n",
       "      <td>Quick PDF Scanner + OCR FREE</td>\n",
       "      <td>BUSINESS</td>\n",
       "      <td>4.2</td>\n",
       "      <td>80805</td>\n",
       "      <td>Varies with device</td>\n",
       "      <td>5,000,000+</td>\n",
       "      <td>Free</td>\n",
       "      <td>0</td>\n",
       "      <td>Everyone</td>\n",
       "      <td>Business</td>\n",
       "      <td>February 26, 2018</td>\n",
       "      <td>Varies with device</td>\n",
       "      <td>4.0.3 and up</td>\n",
       "    </tr>\n",
       "    <tr>\n",
       "      <th>236</th>\n",
       "      <td>Box</td>\n",
       "      <td>BUSINESS</td>\n",
       "      <td>4.2</td>\n",
       "      <td>159872</td>\n",
       "      <td>Varies with device</td>\n",
       "      <td>10,000,000+</td>\n",
       "      <td>Free</td>\n",
       "      <td>0</td>\n",
       "      <td>Everyone</td>\n",
       "      <td>Business</td>\n",
       "      <td>July 31, 2018</td>\n",
       "      <td>Varies with device</td>\n",
       "      <td>Varies with device</td>\n",
       "    </tr>\n",
       "    <tr>\n",
       "      <th>239</th>\n",
       "      <td>Google My Business</td>\n",
       "      <td>BUSINESS</td>\n",
       "      <td>4.4</td>\n",
       "      <td>70991</td>\n",
       "      <td>Varies with device</td>\n",
       "      <td>5,000,000+</td>\n",
       "      <td>Free</td>\n",
       "      <td>0</td>\n",
       "      <td>Everyone</td>\n",
       "      <td>Business</td>\n",
       "      <td>July 24, 2018</td>\n",
       "      <td>2.19.0.204537701</td>\n",
       "      <td>4.4 and up</td>\n",
       "    </tr>\n",
       "    <tr>\n",
       "      <th>256</th>\n",
       "      <td>ZOOM Cloud Meetings</td>\n",
       "      <td>BUSINESS</td>\n",
       "      <td>4.4</td>\n",
       "      <td>31614</td>\n",
       "      <td>37M</td>\n",
       "      <td>10,000,000+</td>\n",
       "      <td>Free</td>\n",
       "      <td>0</td>\n",
       "      <td>Everyone</td>\n",
       "      <td>Business</td>\n",
       "      <td>July 20, 2018</td>\n",
       "      <td>4.1.28165.0716</td>\n",
       "      <td>4.0 and up</td>\n",
       "    </tr>\n",
       "    <tr>\n",
       "      <th>261</th>\n",
       "      <td>join.me - Simple Meetings</td>\n",
       "      <td>BUSINESS</td>\n",
       "      <td>4.0</td>\n",
       "      <td>6989</td>\n",
       "      <td>Varies with device</td>\n",
       "      <td>1,000,000+</td>\n",
       "      <td>Free</td>\n",
       "      <td>0</td>\n",
       "      <td>Everyone</td>\n",
       "      <td>Business</td>\n",
       "      <td>July 16, 2018</td>\n",
       "      <td>4.3.0.508</td>\n",
       "      <td>4.4 and up</td>\n",
       "    </tr>\n",
       "    <tr>\n",
       "      <th>...</th>\n",
       "      <td>...</td>\n",
       "      <td>...</td>\n",
       "      <td>...</td>\n",
       "      <td>...</td>\n",
       "      <td>...</td>\n",
       "      <td>...</td>\n",
       "      <td>...</td>\n",
       "      <td>...</td>\n",
       "      <td>...</td>\n",
       "      <td>...</td>\n",
       "      <td>...</td>\n",
       "      <td>...</td>\n",
       "      <td>...</td>\n",
       "    </tr>\n",
       "    <tr>\n",
       "      <th>8643</th>\n",
       "      <td>Wunderlist: To-Do List &amp; Tasks</td>\n",
       "      <td>PRODUCTIVITY</td>\n",
       "      <td>4.6</td>\n",
       "      <td>404610</td>\n",
       "      <td>Varies with device</td>\n",
       "      <td>10,000,000+</td>\n",
       "      <td>Free</td>\n",
       "      <td>0</td>\n",
       "      <td>Everyone</td>\n",
       "      <td>Productivity</td>\n",
       "      <td>April 6, 2018</td>\n",
       "      <td>Varies with device</td>\n",
       "      <td>Varies with device</td>\n",
       "    </tr>\n",
       "    <tr>\n",
       "      <th>8654</th>\n",
       "      <td>TickTick: To Do List with Reminder, Day Planner</td>\n",
       "      <td>PRODUCTIVITY</td>\n",
       "      <td>4.6</td>\n",
       "      <td>25370</td>\n",
       "      <td>Varies with device</td>\n",
       "      <td>1,000,000+</td>\n",
       "      <td>Free</td>\n",
       "      <td>0</td>\n",
       "      <td>Everyone</td>\n",
       "      <td>Productivity</td>\n",
       "      <td>August 6, 2018</td>\n",
       "      <td>Varies with device</td>\n",
       "      <td>Varies with device</td>\n",
       "    </tr>\n",
       "    <tr>\n",
       "      <th>8658</th>\n",
       "      <td>ColorNote Notepad Notes</td>\n",
       "      <td>PRODUCTIVITY</td>\n",
       "      <td>4.6</td>\n",
       "      <td>2401017</td>\n",
       "      <td>Varies with device</td>\n",
       "      <td>100,000,000+</td>\n",
       "      <td>Free</td>\n",
       "      <td>0</td>\n",
       "      <td>Everyone</td>\n",
       "      <td>Productivity</td>\n",
       "      <td>June 27, 2018</td>\n",
       "      <td>Varies with device</td>\n",
       "      <td>Varies with device</td>\n",
       "    </tr>\n",
       "    <tr>\n",
       "      <th>10049</th>\n",
       "      <td>Airway Ex - Intubate. Anesthetize. Train.</td>\n",
       "      <td>MEDICAL</td>\n",
       "      <td>4.3</td>\n",
       "      <td>123</td>\n",
       "      <td>86M</td>\n",
       "      <td>10,000+</td>\n",
       "      <td>Free</td>\n",
       "      <td>0</td>\n",
       "      <td>Everyone</td>\n",
       "      <td>Medical</td>\n",
       "      <td>June 1, 2018</td>\n",
       "      <td>0.6.88</td>\n",
       "      <td>5.0 and up</td>\n",
       "    </tr>\n",
       "    <tr>\n",
       "      <th>10768</th>\n",
       "      <td>AAFP</td>\n",
       "      <td>MEDICAL</td>\n",
       "      <td>3.8</td>\n",
       "      <td>63</td>\n",
       "      <td>24M</td>\n",
       "      <td>10,000+</td>\n",
       "      <td>Free</td>\n",
       "      <td>0</td>\n",
       "      <td>Everyone</td>\n",
       "      <td>Medical</td>\n",
       "      <td>June 22, 2018</td>\n",
       "      <td>2.3.1</td>\n",
       "      <td>5.0 and up</td>\n",
       "    </tr>\n",
       "  </tbody>\n",
       "</table>\n",
       "<p>483 rows × 13 columns</p>\n",
       "</div>"
      ],
      "text/plain": [
       "                                                   App      Category  Rating  \\\n",
       "229                       Quick PDF Scanner + OCR FREE      BUSINESS     4.2   \n",
       "236                                                Box      BUSINESS     4.2   \n",
       "239                                 Google My Business      BUSINESS     4.4   \n",
       "256                                ZOOM Cloud Meetings      BUSINESS     4.4   \n",
       "261                          join.me - Simple Meetings      BUSINESS     4.0   \n",
       "...                                                ...           ...     ...   \n",
       "8643                    Wunderlist: To-Do List & Tasks  PRODUCTIVITY     4.6   \n",
       "8654   TickTick: To Do List with Reminder, Day Planner  PRODUCTIVITY     4.6   \n",
       "8658                           ColorNote Notepad Notes  PRODUCTIVITY     4.6   \n",
       "10049        Airway Ex - Intubate. Anesthetize. Train.       MEDICAL     4.3   \n",
       "10768                                             AAFP       MEDICAL     3.8   \n",
       "\n",
       "       Reviews                Size      Installs  Type Price Content Rating  \\\n",
       "229      80805  Varies with device    5,000,000+  Free     0       Everyone   \n",
       "236     159872  Varies with device   10,000,000+  Free     0       Everyone   \n",
       "239      70991  Varies with device    5,000,000+  Free     0       Everyone   \n",
       "256      31614                 37M   10,000,000+  Free     0       Everyone   \n",
       "261       6989  Varies with device    1,000,000+  Free     0       Everyone   \n",
       "...        ...                 ...           ...   ...   ...            ...   \n",
       "8643    404610  Varies with device   10,000,000+  Free     0       Everyone   \n",
       "8654     25370  Varies with device    1,000,000+  Free     0       Everyone   \n",
       "8658   2401017  Varies with device  100,000,000+  Free     0       Everyone   \n",
       "10049      123                 86M       10,000+  Free     0       Everyone   \n",
       "10768       63                 24M       10,000+  Free     0       Everyone   \n",
       "\n",
       "             Genres       Last Updated         Current Ver         Android Ver  \n",
       "229        Business  February 26, 2018  Varies with device        4.0.3 and up  \n",
       "236        Business      July 31, 2018  Varies with device  Varies with device  \n",
       "239        Business      July 24, 2018    2.19.0.204537701          4.4 and up  \n",
       "256        Business      July 20, 2018      4.1.28165.0716          4.0 and up  \n",
       "261        Business      July 16, 2018           4.3.0.508          4.4 and up  \n",
       "...             ...                ...                 ...                 ...  \n",
       "8643   Productivity      April 6, 2018  Varies with device  Varies with device  \n",
       "8654   Productivity     August 6, 2018  Varies with device  Varies with device  \n",
       "8658   Productivity      June 27, 2018  Varies with device  Varies with device  \n",
       "10049       Medical       June 1, 2018              0.6.88          5.0 and up  \n",
       "10768       Medical      June 22, 2018               2.3.1          5.0 and up  \n",
       "\n",
       "[483 rows x 13 columns]"
      ]
     },
     "execution_count": 12,
     "metadata": {},
     "output_type": "execute_result"
    }
   ],
   "source": [
    "#Finding duplicate Records.\n",
    "df[df.duplicated()]"
   ]
  },
  {
   "cell_type": "code",
   "execution_count": 13,
   "id": "83cf1a3c",
   "metadata": {
    "ExecuteTime": {
     "end_time": "2024-02-26T17:37:23.271369Z",
     "start_time": "2024-02-26T17:37:23.252036Z"
    }
   },
   "outputs": [],
   "source": [
    "# Dropping all the duplicate records in the data\n",
    "df.drop_duplicates(inplace=True)"
   ]
  },
  {
   "cell_type": "code",
   "execution_count": 14,
   "id": "2dd67f1a",
   "metadata": {
    "ExecuteTime": {
     "end_time": "2024-02-26T17:37:23.279282Z",
     "start_time": "2024-02-26T17:37:23.273366Z"
    }
   },
   "outputs": [
    {
     "data": {
      "text/plain": [
       "(10358, 13)"
      ]
     },
     "execution_count": 14,
     "metadata": {},
     "output_type": "execute_result"
    }
   ],
   "source": [
    "# Checking the shape of the data\n",
    "df.shape"
   ]
  },
  {
   "cell_type": "markdown",
   "id": "fece0f24",
   "metadata": {},
   "source": [
    "<h4>5. Check the unique categories of the column 'Category', Is there any invalid category? If yes, drop them.\n",
    "</h4>"
   ]
  },
  {
   "cell_type": "code",
   "execution_count": 15,
   "id": "b57a5131",
   "metadata": {
    "ExecuteTime": {
     "end_time": "2024-02-26T17:37:23.351383Z",
     "start_time": "2024-02-26T17:37:23.280287Z"
    }
   },
   "outputs": [
    {
     "data": {
      "text/plain": [
       "array(['ART_AND_DESIGN', 'AUTO_AND_VEHICLES', 'BEAUTY',\n",
       "       'BOOKS_AND_REFERENCE', 'BUSINESS', 'COMICS', 'COMMUNICATION',\n",
       "       'DATING', 'EDUCATION', 'ENTERTAINMENT', 'EVENTS', 'FINANCE',\n",
       "       'FOOD_AND_DRINK', 'HEALTH_AND_FITNESS', 'HOUSE_AND_HOME',\n",
       "       'LIBRARIES_AND_DEMO', 'LIFESTYLE', 'GAME', 'FAMILY', 'MEDICAL',\n",
       "       'SOCIAL', 'SHOPPING', 'PHOTOGRAPHY', 'SPORTS', 'TRAVEL_AND_LOCAL',\n",
       "       'TOOLS', 'PERSONALIZATION', 'PRODUCTIVITY', 'PARENTING', 'WEATHER',\n",
       "       'VIDEO_PLAYERS', 'NEWS_AND_MAGAZINES', 'MAPS_AND_NAVIGATION',\n",
       "       '1.9'], dtype=object)"
      ]
     },
     "execution_count": 15,
     "metadata": {},
     "output_type": "execute_result"
    }
   ],
   "source": [
    "df['Category'].unique()"
   ]
  },
  {
   "cell_type": "code",
   "execution_count": 16,
   "id": "2d02ed6b",
   "metadata": {
    "ExecuteTime": {
     "end_time": "2024-02-26T17:37:23.372709Z",
     "start_time": "2024-02-26T17:37:23.354382Z"
    }
   },
   "outputs": [
    {
     "data": {
      "text/html": [
       "<div>\n",
       "<style scoped>\n",
       "    .dataframe tbody tr th:only-of-type {\n",
       "        vertical-align: middle;\n",
       "    }\n",
       "\n",
       "    .dataframe tbody tr th {\n",
       "        vertical-align: top;\n",
       "    }\n",
       "\n",
       "    .dataframe thead th {\n",
       "        text-align: right;\n",
       "    }\n",
       "</style>\n",
       "<table border=\"1\" class=\"dataframe\">\n",
       "  <thead>\n",
       "    <tr style=\"text-align: right;\">\n",
       "      <th></th>\n",
       "      <th>App</th>\n",
       "      <th>Category</th>\n",
       "      <th>Rating</th>\n",
       "      <th>Reviews</th>\n",
       "      <th>Size</th>\n",
       "      <th>Installs</th>\n",
       "      <th>Type</th>\n",
       "      <th>Price</th>\n",
       "      <th>Content Rating</th>\n",
       "      <th>Genres</th>\n",
       "      <th>Last Updated</th>\n",
       "      <th>Current Ver</th>\n",
       "      <th>Android Ver</th>\n",
       "    </tr>\n",
       "  </thead>\n",
       "  <tbody>\n",
       "    <tr>\n",
       "      <th>10472</th>\n",
       "      <td>Life Made WI-Fi Touchscreen Photo Frame</td>\n",
       "      <td>1.9</td>\n",
       "      <td>19.0</td>\n",
       "      <td>3.0M</td>\n",
       "      <td>1,000+</td>\n",
       "      <td>Free</td>\n",
       "      <td>0</td>\n",
       "      <td>Everyone</td>\n",
       "      <td>NaN</td>\n",
       "      <td>February 11, 2018</td>\n",
       "      <td>1.0.19</td>\n",
       "      <td>4.0 and up</td>\n",
       "      <td>NaN</td>\n",
       "    </tr>\n",
       "  </tbody>\n",
       "</table>\n",
       "</div>"
      ],
      "text/plain": [
       "                                           App Category  Rating Reviews  \\\n",
       "10472  Life Made WI-Fi Touchscreen Photo Frame      1.9    19.0    3.0M   \n",
       "\n",
       "         Size Installs Type     Price Content Rating             Genres  \\\n",
       "10472  1,000+     Free    0  Everyone            NaN  February 11, 2018   \n",
       "\n",
       "      Last Updated Current Ver Android Ver  \n",
       "10472       1.0.19  4.0 and up         NaN  "
      ]
     },
     "execution_count": 16,
     "metadata": {},
     "output_type": "execute_result"
    }
   ],
   "source": [
    "#Filtering the unique category using query function\n",
    "index = df.query('Category == \"1.9\"')\n",
    "index"
   ]
  },
  {
   "cell_type": "code",
   "execution_count": 17,
   "id": "45a7af6a",
   "metadata": {
    "ExecuteTime": {
     "end_time": "2024-02-26T17:37:23.383062Z",
     "start_time": "2024-02-26T17:37:23.374711Z"
    }
   },
   "outputs": [],
   "source": [
    "#Dropping of the unique category\n",
    "df.drop(10472, inplace=True)"
   ]
  },
  {
   "cell_type": "code",
   "execution_count": 18,
   "id": "85de88c8",
   "metadata": {
    "ExecuteTime": {
     "end_time": "2024-02-26T17:37:23.392137Z",
     "start_time": "2024-02-26T17:37:23.384067Z"
    },
    "scrolled": true
   },
   "outputs": [
    {
     "data": {
      "text/plain": [
       "array(['ART_AND_DESIGN', 'AUTO_AND_VEHICLES', 'BEAUTY',\n",
       "       'BOOKS_AND_REFERENCE', 'BUSINESS', 'COMICS', 'COMMUNICATION',\n",
       "       'DATING', 'EDUCATION', 'ENTERTAINMENT', 'EVENTS', 'FINANCE',\n",
       "       'FOOD_AND_DRINK', 'HEALTH_AND_FITNESS', 'HOUSE_AND_HOME',\n",
       "       'LIBRARIES_AND_DEMO', 'LIFESTYLE', 'GAME', 'FAMILY', 'MEDICAL',\n",
       "       'SOCIAL', 'SHOPPING', 'PHOTOGRAPHY', 'SPORTS', 'TRAVEL_AND_LOCAL',\n",
       "       'TOOLS', 'PERSONALIZATION', 'PRODUCTIVITY', 'PARENTING', 'WEATHER',\n",
       "       'VIDEO_PLAYERS', 'NEWS_AND_MAGAZINES', 'MAPS_AND_NAVIGATION'],\n",
       "      dtype=object)"
      ]
     },
     "execution_count": 18,
     "metadata": {},
     "output_type": "execute_result"
    }
   ],
   "source": [
    "df['Category'].unique()"
   ]
  },
  {
   "cell_type": "markdown",
   "id": "d3998a14",
   "metadata": {},
   "source": [
    "<h4>6. Check if there are missing values present in the column Rating, If any? drop them and and create a new\n",
    "column as 'Rating_category' by converting ratings to high and low categories(>3.5 is high rest low)</h4>"
   ]
  },
  {
   "cell_type": "code",
   "execution_count": 19,
   "id": "f2633f0b",
   "metadata": {
    "ExecuteTime": {
     "end_time": "2024-02-26T17:37:23.399752Z",
     "start_time": "2024-02-26T17:37:23.394134Z"
    }
   },
   "outputs": [
    {
     "data": {
      "text/plain": [
       "1465"
      ]
     },
     "execution_count": 19,
     "metadata": {},
     "output_type": "execute_result"
    }
   ],
   "source": [
    "# Values missing are 1465\n",
    "df['Rating'].isnull().sum()"
   ]
  },
  {
   "cell_type": "code",
   "execution_count": 20,
   "id": "3c429f41",
   "metadata": {
    "ExecuteTime": {
     "end_time": "2024-02-26T17:37:23.408934Z",
     "start_time": "2024-02-26T17:37:23.401750Z"
    }
   },
   "outputs": [],
   "source": [
    "#Finding indexes records with missing ratings\n",
    "blank_rating = df.query('Rating.isnull()').index"
   ]
  },
  {
   "cell_type": "code",
   "execution_count": 21,
   "id": "5c56dc50",
   "metadata": {
    "ExecuteTime": {
     "end_time": "2024-02-26T17:37:23.416687Z",
     "start_time": "2024-02-26T17:37:23.410933Z"
    }
   },
   "outputs": [
    {
     "data": {
      "text/plain": [
       "Index([   23,   113,   123,   126,   129,   130,   134,   163,   180,   185,\n",
       "       ...\n",
       "       10816, 10818, 10821, 10822, 10823, 10824, 10825, 10831, 10835, 10838],\n",
       "      dtype='int64', length=1465)"
      ]
     },
     "execution_count": 21,
     "metadata": {},
     "output_type": "execute_result"
    }
   ],
   "source": [
    "blank_rating"
   ]
  },
  {
   "cell_type": "code",
   "execution_count": 22,
   "id": "fcb6cf98",
   "metadata": {
    "ExecuteTime": {
     "end_time": "2024-02-26T17:37:23.425292Z",
     "start_time": "2024-02-26T17:37:23.418685Z"
    }
   },
   "outputs": [],
   "source": [
    "##Dropping off records with missing rating\n",
    "df.drop(blank_rating,inplace=True)"
   ]
  },
  {
   "cell_type": "code",
   "execution_count": 23,
   "id": "a1ab6030",
   "metadata": {
    "ExecuteTime": {
     "end_time": "2024-02-26T17:37:23.432073Z",
     "start_time": "2024-02-26T17:37:23.427290Z"
    }
   },
   "outputs": [
    {
     "data": {
      "text/plain": [
       "(8892, 13)"
      ]
     },
     "execution_count": 23,
     "metadata": {},
     "output_type": "execute_result"
    }
   ],
   "source": [
    "df.shape"
   ]
  },
  {
   "cell_type": "code",
   "execution_count": 24,
   "id": "ea9bf1d7",
   "metadata": {
    "ExecuteTime": {
     "end_time": "2024-02-26T17:37:23.441739Z",
     "start_time": "2024-02-26T17:37:23.435071Z"
    }
   },
   "outputs": [],
   "source": [
    "#using np.where function from numpy to define a condition\n",
    "df['Rating_Category'] = np.where(df['Rating'] > 3.5, 'high', 'low')"
   ]
  },
  {
   "cell_type": "code",
   "execution_count": 25,
   "id": "5d6ed638",
   "metadata": {
    "ExecuteTime": {
     "end_time": "2024-02-26T17:37:23.460245Z",
     "start_time": "2024-02-26T17:37:23.443737Z"
    }
   },
   "outputs": [
    {
     "data": {
      "text/html": [
       "<div>\n",
       "<style scoped>\n",
       "    .dataframe tbody tr th:only-of-type {\n",
       "        vertical-align: middle;\n",
       "    }\n",
       "\n",
       "    .dataframe tbody tr th {\n",
       "        vertical-align: top;\n",
       "    }\n",
       "\n",
       "    .dataframe thead th {\n",
       "        text-align: right;\n",
       "    }\n",
       "</style>\n",
       "<table border=\"1\" class=\"dataframe\">\n",
       "  <thead>\n",
       "    <tr style=\"text-align: right;\">\n",
       "      <th></th>\n",
       "      <th>App</th>\n",
       "      <th>Category</th>\n",
       "      <th>Rating</th>\n",
       "      <th>Reviews</th>\n",
       "      <th>Size</th>\n",
       "      <th>Installs</th>\n",
       "      <th>Type</th>\n",
       "      <th>Price</th>\n",
       "      <th>Content Rating</th>\n",
       "      <th>Genres</th>\n",
       "      <th>Last Updated</th>\n",
       "      <th>Current Ver</th>\n",
       "      <th>Android Ver</th>\n",
       "      <th>Rating_Category</th>\n",
       "    </tr>\n",
       "  </thead>\n",
       "  <tbody>\n",
       "    <tr>\n",
       "      <th>15</th>\n",
       "      <td>Learn To Draw Kawaii Characters</td>\n",
       "      <td>ART_AND_DESIGN</td>\n",
       "      <td>3.2</td>\n",
       "      <td>55</td>\n",
       "      <td>2.7M</td>\n",
       "      <td>5,000+</td>\n",
       "      <td>Free</td>\n",
       "      <td>0</td>\n",
       "      <td>Everyone</td>\n",
       "      <td>Art &amp; Design</td>\n",
       "      <td>June 6, 2018</td>\n",
       "      <td>NaN</td>\n",
       "      <td>4.2 and up</td>\n",
       "      <td>low</td>\n",
       "    </tr>\n",
       "  </tbody>\n",
       "</table>\n",
       "</div>"
      ],
      "text/plain": [
       "                                App        Category  Rating Reviews  Size  \\\n",
       "15  Learn To Draw Kawaii Characters  ART_AND_DESIGN     3.2      55  2.7M   \n",
       "\n",
       "   Installs  Type Price Content Rating        Genres  Last Updated  \\\n",
       "15   5,000+  Free     0       Everyone  Art & Design  June 6, 2018   \n",
       "\n",
       "   Current Ver Android Ver Rating_Category  \n",
       "15         NaN  4.2 and up             low  "
      ]
     },
     "execution_count": 25,
     "metadata": {},
     "output_type": "execute_result"
    }
   ],
   "source": [
    "#checking the above values with the condition\n",
    "df.query('Rating < 3.5').head(1)"
   ]
  },
  {
   "cell_type": "code",
   "execution_count": 26,
   "id": "9c814e36",
   "metadata": {
    "ExecuteTime": {
     "end_time": "2024-02-26T17:37:23.474653Z",
     "start_time": "2024-02-26T17:37:23.462243Z"
    }
   },
   "outputs": [
    {
     "data": {
      "text/html": [
       "<div>\n",
       "<style scoped>\n",
       "    .dataframe tbody tr th:only-of-type {\n",
       "        vertical-align: middle;\n",
       "    }\n",
       "\n",
       "    .dataframe tbody tr th {\n",
       "        vertical-align: top;\n",
       "    }\n",
       "\n",
       "    .dataframe thead th {\n",
       "        text-align: right;\n",
       "    }\n",
       "</style>\n",
       "<table border=\"1\" class=\"dataframe\">\n",
       "  <thead>\n",
       "    <tr style=\"text-align: right;\">\n",
       "      <th></th>\n",
       "      <th>App</th>\n",
       "      <th>Category</th>\n",
       "      <th>Rating</th>\n",
       "      <th>Reviews</th>\n",
       "      <th>Size</th>\n",
       "      <th>Installs</th>\n",
       "      <th>Type</th>\n",
       "      <th>Price</th>\n",
       "      <th>Content Rating</th>\n",
       "      <th>Genres</th>\n",
       "      <th>Last Updated</th>\n",
       "      <th>Current Ver</th>\n",
       "      <th>Android Ver</th>\n",
       "      <th>Rating_Category</th>\n",
       "    </tr>\n",
       "  </thead>\n",
       "  <tbody>\n",
       "    <tr>\n",
       "      <th>0</th>\n",
       "      <td>Photo Editor &amp; Candy Camera &amp; Grid &amp; ScrapBook</td>\n",
       "      <td>ART_AND_DESIGN</td>\n",
       "      <td>4.1</td>\n",
       "      <td>159</td>\n",
       "      <td>19M</td>\n",
       "      <td>10,000+</td>\n",
       "      <td>Free</td>\n",
       "      <td>0</td>\n",
       "      <td>Everyone</td>\n",
       "      <td>Art &amp; Design</td>\n",
       "      <td>January 7, 2018</td>\n",
       "      <td>1.0.0</td>\n",
       "      <td>4.0.3 and up</td>\n",
       "      <td>high</td>\n",
       "    </tr>\n",
       "  </tbody>\n",
       "</table>\n",
       "</div>"
      ],
      "text/plain": [
       "                                              App        Category  Rating  \\\n",
       "0  Photo Editor & Candy Camera & Grid & ScrapBook  ART_AND_DESIGN     4.1   \n",
       "\n",
       "  Reviews Size Installs  Type Price Content Rating        Genres  \\\n",
       "0     159  19M  10,000+  Free     0       Everyone  Art & Design   \n",
       "\n",
       "      Last Updated Current Ver   Android Ver Rating_Category  \n",
       "0  January 7, 2018       1.0.0  4.0.3 and up            high  "
      ]
     },
     "execution_count": 26,
     "metadata": {},
     "output_type": "execute_result"
    }
   ],
   "source": [
    "df.head(1)"
   ]
  },
  {
   "cell_type": "markdown",
   "id": "1a21cf11",
   "metadata": {},
   "source": [
    "<h4>7. Check the distribution of the newly created column 'Rating_category' and comment on the distribution.\n",
    "</h4>"
   ]
  },
  {
   "cell_type": "code",
   "execution_count": 27,
   "id": "c49abb7f",
   "metadata": {
    "ExecuteTime": {
     "end_time": "2024-02-26T17:37:23.526449Z",
     "start_time": "2024-02-26T17:37:23.476654Z"
    }
   },
   "outputs": [
    {
     "data": {
      "text/plain": [
       "Rating_Category\n",
       "high    8012\n",
       "low      880\n",
       "Name: count, dtype: int64"
      ]
     },
     "execution_count": 27,
     "metadata": {},
     "output_type": "execute_result"
    }
   ],
   "source": [
    "#Distribution of Rating_category\n",
    "df['Rating_Category'].value_counts()"
   ]
  },
  {
   "cell_type": "code",
   "execution_count": 28,
   "id": "9cd4ade3",
   "metadata": {
    "ExecuteTime": {
     "end_time": "2024-02-26T17:37:23.736614Z",
     "start_time": "2024-02-26T17:37:23.528447Z"
    }
   },
   "outputs": [
    {
     "data": {
      "text/plain": [
       "Text(0.5, 1.0, 'Distribution of Rating Category')"
      ]
     },
     "execution_count": 28,
     "metadata": {},
     "output_type": "execute_result"
    },
    {
     "data": {
      "image/png": "[encoded data removed]",
      "text/plain": [
       "<Figure size 640x480 with 1 Axes>"
      ]
     },
     "metadata": {},
     "output_type": "display_data"
    }
   ],
   "source": [
    "#plotting a histogram to see the distribution\n",
    "df['Rating_Category'].hist()\n",
    "plt.title(\"Distribution of Rating Category\")"
   ]
  },
  {
   "cell_type": "markdown",
   "id": "229a8352",
   "metadata": {},
   "source": [
    "<h4>8. Convert the column \"Reviews'' to numeric data type and check the presence of outliers in the column and\n",
    "handle the outliers using a transformation approach.(Hint: Use log transformation)</h4>"
   ]
  },
  {
   "cell_type": "code",
   "execution_count": 29,
   "id": "725fe2ca",
   "metadata": {
    "ExecuteTime": {
     "end_time": "2024-02-26T17:37:23.743841Z",
     "start_time": "2024-02-26T17:37:23.738611Z"
    }
   },
   "outputs": [
    {
     "data": {
      "text/plain": [
       "dtype('O')"
      ]
     },
     "execution_count": 29,
     "metadata": {},
     "output_type": "execute_result"
    }
   ],
   "source": [
    "df['Reviews'].dtype"
   ]
  },
  {
   "cell_type": "code",
   "execution_count": 30,
   "id": "af53baf9",
   "metadata": {
    "ExecuteTime": {
     "end_time": "2024-02-26T17:37:23.756725Z",
     "start_time": "2024-02-26T17:37:23.751823Z"
    }
   },
   "outputs": [],
   "source": [
    "# Converting to suitable datatype\n",
    "df['Reviews'] = df['Reviews'].astype(int)"
   ]
  },
  {
   "cell_type": "code",
   "execution_count": 31,
   "id": "a807e872",
   "metadata": {
    "ExecuteTime": {
     "end_time": "2024-02-26T17:37:23.763386Z",
     "start_time": "2024-02-26T17:37:23.757725Z"
    }
   },
   "outputs": [
    {
     "data": {
      "text/plain": [
       "dtype('int32')"
      ]
     },
     "execution_count": 31,
     "metadata": {},
     "output_type": "execute_result"
    }
   ],
   "source": [
    "df['Reviews'].dtype"
   ]
  },
  {
   "cell_type": "code",
   "execution_count": 32,
   "id": "64c7705f",
   "metadata": {
    "ExecuteTime": {
     "end_time": "2024-02-26T17:37:23.772364Z",
     "start_time": "2024-02-26T17:37:23.765384Z"
    }
   },
   "outputs": [
    {
     "data": {
      "text/plain": [
       "0           159\n",
       "1           967\n",
       "2         87510\n",
       "3        215644\n",
       "4           967\n",
       "          ...  \n",
       "10834         7\n",
       "10836        38\n",
       "10837         4\n",
       "10839       114\n",
       "10840    398307\n",
       "Name: Reviews, Length: 8892, dtype: int32"
      ]
     },
     "execution_count": 32,
     "metadata": {},
     "output_type": "execute_result"
    }
   ],
   "source": [
    "df['Reviews']"
   ]
  },
  {
   "cell_type": "code",
   "execution_count": 33,
   "id": "6f710ef5",
   "metadata": {
    "ExecuteTime": {
     "end_time": "2024-02-26T17:37:23.783949Z",
     "start_time": "2024-02-26T17:37:23.775361Z"
    }
   },
   "outputs": [
    {
     "data": {
      "text/plain": [
       "count    8.892000e+03\n",
       "mean     4.727764e+05\n",
       "std      2.905052e+06\n",
       "min      1.000000e+00\n",
       "25%      1.640000e+02\n",
       "50%      4.714500e+03\n",
       "75%      7.126675e+04\n",
       "max      7.815831e+07\n",
       "Name: Reviews, dtype: float64"
      ]
     },
     "execution_count": 33,
     "metadata": {},
     "output_type": "execute_result"
    }
   ],
   "source": [
    "df['Reviews'].describe()"
   ]
  },
  {
   "cell_type": "code",
   "execution_count": 34,
   "id": "84a19de7",
   "metadata": {
    "ExecuteTime": {
     "end_time": "2024-02-26T17:37:23.918948Z",
     "start_time": "2024-02-26T17:37:23.784955Z"
    }
   },
   "outputs": [
    {
     "data": {
      "text/plain": [
       "<Axes: xlabel='Reviews'>"
      ]
     },
     "execution_count": 34,
     "metadata": {},
     "output_type": "execute_result"
    },
    {
     "data": {
      "image/png": "[encoded data removed]",
      "text/plain": [
       "<Figure size 640x480 with 1 Axes>"
      ]
     },
     "metadata": {},
     "output_type": "display_data"
    }
   ],
   "source": [
    "sns.boxplot(data=df, x='Reviews')"
   ]
  },
  {
   "cell_type": "code",
   "execution_count": 35,
   "id": "a25e5846",
   "metadata": {
    "ExecuteTime": {
     "end_time": "2024-02-26T17:37:23.924599Z",
     "start_time": "2024-02-26T17:37:23.920946Z"
    }
   },
   "outputs": [],
   "source": [
    "# Applying Log Transformation to the column using Log\n",
    "log = np.log(df['Reviews'])"
   ]
  },
  {
   "cell_type": "code",
   "execution_count": 36,
   "id": "89aff50f",
   "metadata": {
    "ExecuteTime": {
     "end_time": "2024-02-26T17:37:23.940962Z",
     "start_time": "2024-02-26T17:37:23.925620Z"
    }
   },
   "outputs": [
    {
     "data": {
      "text/plain": [
       "count    8892.000000\n",
       "mean        8.234893\n",
       "std         3.880200\n",
       "min         0.000000\n",
       "25%         5.099866\n",
       "50%         8.458398\n",
       "75%        11.174185\n",
       "max        18.174247\n",
       "Name: Reviews, dtype: float64"
      ]
     },
     "execution_count": 36,
     "metadata": {},
     "output_type": "execute_result"
    }
   ],
   "source": [
    "log.describe()"
   ]
  },
  {
   "cell_type": "code",
   "execution_count": 37,
   "id": "8caf0615",
   "metadata": {
    "ExecuteTime": {
     "end_time": "2024-02-26T17:37:24.074946Z",
     "start_time": "2024-02-26T17:37:23.942961Z"
    }
   },
   "outputs": [
    {
     "data": {
      "text/plain": [
       "Text(0.5, 1.0, 'Box plot after log transformation')"
      ]
     },
     "execution_count": 37,
     "metadata": {},
     "output_type": "execute_result"
    },
    {
     "data": {
      "image/png": "[encoded data removed]",
      "text/plain": [
       "<Figure size 640x480 with 1 Axes>"
      ]
     },
     "metadata": {},
     "output_type": "display_data"
    }
   ],
   "source": [
    "# Plotting a boxplot to Analyze any Outliers\n",
    "sns.boxplot(x=log, color='yellow', showmeans=True)\n",
    "plt.title(\"Box plot after log transformation\")"
   ]
  },
  {
   "cell_type": "code",
   "execution_count": 38,
   "id": "7b2b7d0c",
   "metadata": {
    "ExecuteTime": {
     "end_time": "2024-02-26T17:37:24.080264Z",
     "start_time": "2024-02-26T17:37:24.076945Z"
    }
   },
   "outputs": [],
   "source": [
    "# Replacing reviews values with their transformed values.\n",
    "df['Reviews'] = log"
   ]
  },
  {
   "cell_type": "code",
   "execution_count": 39,
   "id": "8c5b1a66",
   "metadata": {
    "ExecuteTime": {
     "end_time": "2024-02-26T17:37:24.094012Z",
     "start_time": "2024-02-26T17:37:24.082266Z"
    }
   },
   "outputs": [
    {
     "data": {
      "text/html": [
       "<div>\n",
       "<style scoped>\n",
       "    .dataframe tbody tr th:only-of-type {\n",
       "        vertical-align: middle;\n",
       "    }\n",
       "\n",
       "    .dataframe tbody tr th {\n",
       "        vertical-align: top;\n",
       "    }\n",
       "\n",
       "    .dataframe thead th {\n",
       "        text-align: right;\n",
       "    }\n",
       "</style>\n",
       "<table border=\"1\" class=\"dataframe\">\n",
       "  <thead>\n",
       "    <tr style=\"text-align: right;\">\n",
       "      <th></th>\n",
       "      <th>App</th>\n",
       "      <th>Category</th>\n",
       "      <th>Rating</th>\n",
       "      <th>Reviews</th>\n",
       "      <th>Size</th>\n",
       "      <th>Installs</th>\n",
       "      <th>Type</th>\n",
       "      <th>Price</th>\n",
       "      <th>Content Rating</th>\n",
       "      <th>Genres</th>\n",
       "      <th>Last Updated</th>\n",
       "      <th>Current Ver</th>\n",
       "      <th>Android Ver</th>\n",
       "      <th>Rating_Category</th>\n",
       "    </tr>\n",
       "  </thead>\n",
       "  <tbody>\n",
       "    <tr>\n",
       "      <th>0</th>\n",
       "      <td>Photo Editor &amp; Candy Camera &amp; Grid &amp; ScrapBook</td>\n",
       "      <td>ART_AND_DESIGN</td>\n",
       "      <td>4.1</td>\n",
       "      <td>5.068904</td>\n",
       "      <td>19M</td>\n",
       "      <td>10,000+</td>\n",
       "      <td>Free</td>\n",
       "      <td>0</td>\n",
       "      <td>Everyone</td>\n",
       "      <td>Art &amp; Design</td>\n",
       "      <td>January 7, 2018</td>\n",
       "      <td>1.0.0</td>\n",
       "      <td>4.0.3 and up</td>\n",
       "      <td>high</td>\n",
       "    </tr>\n",
       "  </tbody>\n",
       "</table>\n",
       "</div>"
      ],
      "text/plain": [
       "                                              App        Category  Rating  \\\n",
       "0  Photo Editor & Candy Camera & Grid & ScrapBook  ART_AND_DESIGN     4.1   \n",
       "\n",
       "    Reviews Size Installs  Type Price Content Rating        Genres  \\\n",
       "0  5.068904  19M  10,000+  Free     0       Everyone  Art & Design   \n",
       "\n",
       "      Last Updated Current Ver   Android Ver Rating_Category  \n",
       "0  January 7, 2018       1.0.0  4.0.3 and up            high  "
      ]
     },
     "execution_count": 39,
     "metadata": {},
     "output_type": "execute_result"
    }
   ],
   "source": [
    "df.head(1)"
   ]
  },
  {
   "cell_type": "markdown",
   "id": "45342cc8",
   "metadata": {
    "ExecuteTime": {
     "end_time": "2024-02-04T05:41:55.482005Z",
     "start_time": "2024-02-04T05:41:55.476087Z"
    }
   },
   "source": [
    "<h4>9. The column 'Size' contains alphanumeric values, treat the non numeric data and convert the column into\n",
    "suitable data type. (hint: Replace M with 1 million and K with 1 thousand, and drop the entries where\n",
    "size='Varies with device')</h4>"
   ]
  },
  {
   "cell_type": "code",
   "execution_count": 40,
   "id": "6f335370",
   "metadata": {
    "ExecuteTime": {
     "end_time": "2024-02-26T17:37:24.102736Z",
     "start_time": "2024-02-26T17:37:24.096012Z"
    }
   },
   "outputs": [
    {
     "data": {
      "text/plain": [
       "0                       19M\n",
       "1                       14M\n",
       "2                      8.7M\n",
       "3                       25M\n",
       "4                      2.8M\n",
       "                ...        \n",
       "10834                  2.6M\n",
       "10836                   53M\n",
       "10837                  3.6M\n",
       "10839    Varies with device\n",
       "10840                   19M\n",
       "Name: Size, Length: 8892, dtype: object"
      ]
     },
     "execution_count": 40,
     "metadata": {},
     "output_type": "execute_result"
    }
   ],
   "source": [
    "df['Size']"
   ]
  },
  {
   "cell_type": "code",
   "execution_count": 41,
   "id": "46e613a7",
   "metadata": {
    "ExecuteTime": {
     "end_time": "2024-02-26T17:37:24.115039Z",
     "start_time": "2024-02-26T17:37:24.105734Z"
    }
   },
   "outputs": [],
   "source": [
    "#dropping rows with size as 'Varies with device'\n",
    "df.drop(df.query('Size == \"Varies with device\"').index, inplace=True)"
   ]
  },
  {
   "cell_type": "code",
   "execution_count": 42,
   "id": "2ffd6301",
   "metadata": {
    "ExecuteTime": {
     "end_time": "2024-02-26T17:37:24.124952Z",
     "start_time": "2024-02-26T17:37:24.116039Z"
    }
   },
   "outputs": [
    {
     "data": {
      "text/plain": [
       "0"
      ]
     },
     "execution_count": 42,
     "metadata": {},
     "output_type": "execute_result"
    }
   ],
   "source": [
    "len(df.query('Size == \"Varies with device\"'))"
   ]
  },
  {
   "cell_type": "code",
   "execution_count": 43,
   "id": "a41e6d37",
   "metadata": {
    "ExecuteTime": {
     "end_time": "2024-02-26T17:37:24.140546Z",
     "start_time": "2024-02-26T17:37:24.125955Z"
    }
   },
   "outputs": [],
   "source": [
    "#converting M to 1000000 and k to 1000\n",
    "num = {'M':1000000,'k':1000}\n",
    "\n",
    "df['Size'] = (df['Size'].str[0:-1].astype(float)*df['Size'].str[-1].replace(num)).astype(float)"
   ]
  },
  {
   "cell_type": "code",
   "execution_count": 44,
   "id": "80115bff",
   "metadata": {
    "ExecuteTime": {
     "end_time": "2024-02-26T17:37:24.151717Z",
     "start_time": "2024-02-26T17:37:24.143543Z"
    }
   },
   "outputs": [
    {
     "data": {
      "text/plain": [
       "0        19000000.0\n",
       "1        14000000.0\n",
       "2         8700000.0\n",
       "3        25000000.0\n",
       "4         2800000.0\n",
       "            ...    \n",
       "10833      619000.0\n",
       "10834     2600000.0\n",
       "10836    53000000.0\n",
       "10837     3600000.0\n",
       "10840    19000000.0\n",
       "Name: Size, Length: 7424, dtype: float64"
      ]
     },
     "execution_count": 44,
     "metadata": {},
     "output_type": "execute_result"
    }
   ],
   "source": [
    "df['Size']"
   ]
  },
  {
   "cell_type": "markdown",
   "id": "7b5319de",
   "metadata": {},
   "source": [
    "<h4> 10. Check the column 'Installs', treat the unwanted characters and convert the column into a suitable data type. </h4>"
   ]
  },
  {
   "cell_type": "code",
   "execution_count": 45,
   "id": "b6b8a213",
   "metadata": {
    "ExecuteTime": {
     "end_time": "2024-02-26T17:37:24.159577Z",
     "start_time": "2024-02-26T17:37:24.152720Z"
    }
   },
   "outputs": [
    {
     "data": {
      "text/plain": [
       "0            10,000+\n",
       "1           500,000+\n",
       "2         5,000,000+\n",
       "3        50,000,000+\n",
       "4           100,000+\n",
       "            ...     \n",
       "10833         1,000+\n",
       "10834           500+\n",
       "10836         5,000+\n",
       "10837           100+\n",
       "10840    10,000,000+\n",
       "Name: Installs, Length: 7424, dtype: object"
      ]
     },
     "execution_count": 45,
     "metadata": {},
     "output_type": "execute_result"
    }
   ],
   "source": [
    "df['Installs']"
   ]
  },
  {
   "cell_type": "code",
   "execution_count": 46,
   "id": "22a19650",
   "metadata": {
    "ExecuteTime": {
     "end_time": "2024-02-26T17:37:24.169590Z",
     "start_time": "2024-02-26T17:37:24.161576Z"
    }
   },
   "outputs": [],
   "source": [
    "#Replacing the Unwanted Characters in the dataset \n",
    "df['Installs'] = df['Installs'].str.replace(\",\",\"\")"
   ]
  },
  {
   "cell_type": "code",
   "execution_count": 47,
   "id": "9c96fec7",
   "metadata": {
    "ExecuteTime": {
     "end_time": "2024-02-26T17:37:24.179664Z",
     "start_time": "2024-02-26T17:37:24.171591Z"
    }
   },
   "outputs": [],
   "source": [
    "df['Installs'] = df['Installs'].str.replace(\"+\",\"\")"
   ]
  },
  {
   "cell_type": "code",
   "execution_count": 48,
   "id": "05116cb3",
   "metadata": {
    "ExecuteTime": {
     "end_time": "2024-02-26T17:37:24.190319Z",
     "start_time": "2024-02-26T17:37:24.181667Z"
    }
   },
   "outputs": [],
   "source": [
    "#Converting to suitable datatype using pd.to_numeric\n",
    "df['Installs'] = pd.to_numeric(df['Installs'])"
   ]
  },
  {
   "cell_type": "code",
   "execution_count": 49,
   "id": "527fdcfd",
   "metadata": {
    "ExecuteTime": {
     "end_time": "2024-02-26T17:37:24.268439Z",
     "start_time": "2024-02-26T17:37:24.192844Z"
    }
   },
   "outputs": [
    {
     "data": {
      "text/plain": [
       "0           10000\n",
       "1          500000\n",
       "2         5000000\n",
       "3        50000000\n",
       "4          100000\n",
       "           ...   \n",
       "10833        1000\n",
       "10834         500\n",
       "10836        5000\n",
       "10837         100\n",
       "10840    10000000\n",
       "Name: Installs, Length: 7424, dtype: int64"
      ]
     },
     "execution_count": 49,
     "metadata": {},
     "output_type": "execute_result"
    }
   ],
   "source": [
    "df['Installs']"
   ]
  },
  {
   "cell_type": "code",
   "execution_count": 50,
   "id": "c5d6c737",
   "metadata": {
    "ExecuteTime": {
     "end_time": "2024-02-26T17:37:24.298849Z",
     "start_time": "2024-02-26T17:37:24.278439Z"
    },
    "scrolled": true
   },
   "outputs": [
    {
     "data": {
      "text/html": [
       "<div>\n",
       "<style scoped>\n",
       "    .dataframe tbody tr th:only-of-type {\n",
       "        vertical-align: middle;\n",
       "    }\n",
       "\n",
       "    .dataframe tbody tr th {\n",
       "        vertical-align: top;\n",
       "    }\n",
       "\n",
       "    .dataframe thead th {\n",
       "        text-align: right;\n",
       "    }\n",
       "</style>\n",
       "<table border=\"1\" class=\"dataframe\">\n",
       "  <thead>\n",
       "    <tr style=\"text-align: right;\">\n",
       "      <th></th>\n",
       "      <th>App</th>\n",
       "      <th>Category</th>\n",
       "      <th>Rating</th>\n",
       "      <th>Reviews</th>\n",
       "      <th>Size</th>\n",
       "      <th>Installs</th>\n",
       "      <th>Type</th>\n",
       "      <th>Price</th>\n",
       "      <th>Content Rating</th>\n",
       "      <th>Genres</th>\n",
       "      <th>Last Updated</th>\n",
       "      <th>Current Ver</th>\n",
       "      <th>Android Ver</th>\n",
       "      <th>Rating_Category</th>\n",
       "    </tr>\n",
       "  </thead>\n",
       "  <tbody>\n",
       "    <tr>\n",
       "      <th>0</th>\n",
       "      <td>Photo Editor &amp; Candy Camera &amp; Grid &amp; ScrapBook</td>\n",
       "      <td>ART_AND_DESIGN</td>\n",
       "      <td>4.1</td>\n",
       "      <td>5.068904</td>\n",
       "      <td>19000000.0</td>\n",
       "      <td>10000</td>\n",
       "      <td>Free</td>\n",
       "      <td>0</td>\n",
       "      <td>Everyone</td>\n",
       "      <td>Art &amp; Design</td>\n",
       "      <td>January 7, 2018</td>\n",
       "      <td>1.0.0</td>\n",
       "      <td>4.0.3 and up</td>\n",
       "      <td>high</td>\n",
       "    </tr>\n",
       "  </tbody>\n",
       "</table>\n",
       "</div>"
      ],
      "text/plain": [
       "                                              App        Category  Rating  \\\n",
       "0  Photo Editor & Candy Camera & Grid & ScrapBook  ART_AND_DESIGN     4.1   \n",
       "\n",
       "    Reviews        Size  Installs  Type Price Content Rating        Genres  \\\n",
       "0  5.068904  19000000.0     10000  Free     0       Everyone  Art & Design   \n",
       "\n",
       "      Last Updated Current Ver   Android Ver Rating_Category  \n",
       "0  January 7, 2018       1.0.0  4.0.3 and up            high  "
      ]
     },
     "execution_count": 50,
     "metadata": {},
     "output_type": "execute_result"
    }
   ],
   "source": [
    "df.head(1)"
   ]
  },
  {
   "cell_type": "markdown",
   "id": "24758f39",
   "metadata": {},
   "source": [
    "<h4>11. Check the column 'Price' , remove the unwanted characters and convert the column into a suitable data type.</h4>"
   ]
  },
  {
   "cell_type": "code",
   "execution_count": 51,
   "id": "b620fa23",
   "metadata": {
    "ExecuteTime": {
     "end_time": "2024-02-26T17:37:24.310462Z",
     "start_time": "2024-02-26T17:37:24.301849Z"
    },
    "scrolled": true
   },
   "outputs": [
    {
     "data": {
      "text/plain": [
       "0        0\n",
       "1        0\n",
       "2        0\n",
       "3        0\n",
       "4        0\n",
       "        ..\n",
       "10833    0\n",
       "10834    0\n",
       "10836    0\n",
       "10837    0\n",
       "10840    0\n",
       "Name: Price, Length: 7424, dtype: object"
      ]
     },
     "execution_count": 51,
     "metadata": {},
     "output_type": "execute_result"
    }
   ],
   "source": [
    "df['Price']"
   ]
  },
  {
   "cell_type": "code",
   "execution_count": 52,
   "id": "dcedcec1",
   "metadata": {
    "ExecuteTime": {
     "end_time": "2024-02-26T17:37:24.319037Z",
     "start_time": "2024-02-26T17:37:24.312459Z"
    }
   },
   "outputs": [
    {
     "data": {
      "text/plain": [
       "array(['0', '$4.99', '$6.99', '$7.99', '$3.99', '$5.99', '$2.99', '$1.99',\n",
       "       '$9.99', '$0.99', '$9.00', '$5.49', '$10.00', '$24.99', '$11.99',\n",
       "       '$79.99', '$16.99', '$14.99', '$29.99', '$12.99', '$3.49',\n",
       "       '$10.99', '$7.49', '$1.50', '$19.99', '$15.99', '$33.99', '$39.99',\n",
       "       '$2.49', '$4.49', '$1.70', '$1.49', '$3.88', '$399.99', '$17.99',\n",
       "       '$400.00', '$3.02', '$1.76', '$4.84', '$4.77', '$1.61', '$1.59',\n",
       "       '$6.49', '$1.29', '$299.99', '$379.99', '$37.99', '$18.99',\n",
       "       '$389.99', '$8.49', '$1.75', '$14.00', '$2.00', '$3.08', '$2.59',\n",
       "       '$19.40', '$15.46', '$8.99', '$3.04', '$13.99', '$4.29', '$3.28',\n",
       "       '$4.60', '$1.00', '$2.90', '$1.97', '$2.56', '$1.20'], dtype=object)"
      ]
     },
     "execution_count": 52,
     "metadata": {},
     "output_type": "execute_result"
    }
   ],
   "source": [
    "df['Price'].unique()"
   ]
  },
  {
   "cell_type": "code",
   "execution_count": 53,
   "id": "3eb3dcfa",
   "metadata": {
    "ExecuteTime": {
     "end_time": "2024-02-26T17:37:24.326717Z",
     "start_time": "2024-02-26T17:37:24.321034Z"
    }
   },
   "outputs": [],
   "source": [
    "df['Price'] = df['Price'].str.replace(\"$\",\"\")"
   ]
  },
  {
   "cell_type": "code",
   "execution_count": 54,
   "id": "25847f5f",
   "metadata": {
    "ExecuteTime": {
     "end_time": "2024-02-26T17:37:24.334041Z",
     "start_time": "2024-02-26T17:37:24.328715Z"
    }
   },
   "outputs": [
    {
     "data": {
      "text/plain": [
       "array(['0', '4.99', '6.99', '7.99', '3.99', '5.99', '2.99', '1.99',\n",
       "       '9.99', '0.99', '9.00', '5.49', '10.00', '24.99', '11.99', '79.99',\n",
       "       '16.99', '14.99', '29.99', '12.99', '3.49', '10.99', '7.49',\n",
       "       '1.50', '19.99', '15.99', '33.99', '39.99', '2.49', '4.49', '1.70',\n",
       "       '1.49', '3.88', '399.99', '17.99', '400.00', '3.02', '1.76',\n",
       "       '4.84', '4.77', '1.61', '1.59', '6.49', '1.29', '299.99', '379.99',\n",
       "       '37.99', '18.99', '389.99', '8.49', '1.75', '14.00', '2.00',\n",
       "       '3.08', '2.59', '19.40', '15.46', '8.99', '3.04', '13.99', '4.29',\n",
       "       '3.28', '4.60', '1.00', '2.90', '1.97', '2.56', '1.20'],\n",
       "      dtype=object)"
      ]
     },
     "execution_count": 54,
     "metadata": {},
     "output_type": "execute_result"
    }
   ],
   "source": [
    "df['Price'].unique()"
   ]
  },
  {
   "cell_type": "code",
   "execution_count": 55,
   "id": "43532e22",
   "metadata": {
    "ExecuteTime": {
     "end_time": "2024-02-26T17:37:24.344112Z",
     "start_time": "2024-02-26T17:37:24.335086Z"
    }
   },
   "outputs": [],
   "source": [
    "df['Price'] = pd.to_numeric(df['Price'])"
   ]
  },
  {
   "cell_type": "code",
   "execution_count": 56,
   "id": "27a4986f",
   "metadata": {
    "ExecuteTime": {
     "end_time": "2024-02-26T17:37:24.353268Z",
     "start_time": "2024-02-26T17:37:24.346109Z"
    }
   },
   "outputs": [
    {
     "data": {
      "text/plain": [
       "0        0.0\n",
       "1        0.0\n",
       "2        0.0\n",
       "3        0.0\n",
       "4        0.0\n",
       "        ... \n",
       "10833    0.0\n",
       "10834    0.0\n",
       "10836    0.0\n",
       "10837    0.0\n",
       "10840    0.0\n",
       "Name: Price, Length: 7424, dtype: float64"
      ]
     },
     "execution_count": 56,
     "metadata": {},
     "output_type": "execute_result"
    }
   ],
   "source": [
    "df['Price']"
   ]
  },
  {
   "cell_type": "markdown",
   "id": "d4fe5c19",
   "metadata": {},
   "source": [
    "<h4>12. Drop the columns which you think redundant for the analysis.(suggestion: drop column 'rating', since we\n",
    "created a new feature from it (i.e. rating_category) and the columns 'App', 'Rating' ,'Genres','Last Updated',\n",
    "'Current Ver','Android Ver' columns since which are redundant for our analysis)</h4>"
   ]
  },
  {
   "cell_type": "code",
   "execution_count": 57,
   "id": "b57ec8c3",
   "metadata": {
    "ExecuteTime": {
     "end_time": "2024-02-26T17:37:24.363219Z",
     "start_time": "2024-02-26T17:37:24.356266Z"
    }
   },
   "outputs": [
    {
     "data": {
      "text/plain": [
       "Index(['App', 'Category', 'Rating', 'Reviews', 'Size', 'Installs', 'Type',\n",
       "       'Price', 'Content Rating', 'Genres', 'Last Updated', 'Current Ver',\n",
       "       'Android Ver', 'Rating_Category'],\n",
       "      dtype='object')"
      ]
     },
     "execution_count": 57,
     "metadata": {},
     "output_type": "execute_result"
    }
   ],
   "source": [
    "#Getting all the columns of the dataset.\n",
    "df.columns"
   ]
  },
  {
   "cell_type": "code",
   "execution_count": 58,
   "id": "86221d1b",
   "metadata": {
    "ExecuteTime": {
     "end_time": "2024-02-26T17:37:24.370749Z",
     "start_time": "2024-02-26T17:37:24.364219Z"
    }
   },
   "outputs": [],
   "source": [
    "# Dropping the redundant columns from the datset.\n",
    "df.drop([\"App\",\"Rating\",\"Genres\",\"Last Updated\",\"Current Ver\",\"Android Ver\"], axis = 1,inplace = True)"
   ]
  },
  {
   "cell_type": "code",
   "execution_count": 59,
   "id": "89df9560",
   "metadata": {
    "ExecuteTime": {
     "end_time": "2024-02-26T17:37:24.385580Z",
     "start_time": "2024-02-26T17:37:24.372788Z"
    }
   },
   "outputs": [
    {
     "data": {
      "text/html": [
       "<div>\n",
       "<style scoped>\n",
       "    .dataframe tbody tr th:only-of-type {\n",
       "        vertical-align: middle;\n",
       "    }\n",
       "\n",
       "    .dataframe tbody tr th {\n",
       "        vertical-align: top;\n",
       "    }\n",
       "\n",
       "    .dataframe thead th {\n",
       "        text-align: right;\n",
       "    }\n",
       "</style>\n",
       "<table border=\"1\" class=\"dataframe\">\n",
       "  <thead>\n",
       "    <tr style=\"text-align: right;\">\n",
       "      <th></th>\n",
       "      <th>Category</th>\n",
       "      <th>Reviews</th>\n",
       "      <th>Size</th>\n",
       "      <th>Installs</th>\n",
       "      <th>Type</th>\n",
       "      <th>Price</th>\n",
       "      <th>Content Rating</th>\n",
       "      <th>Rating_Category</th>\n",
       "    </tr>\n",
       "  </thead>\n",
       "  <tbody>\n",
       "    <tr>\n",
       "      <th>0</th>\n",
       "      <td>ART_AND_DESIGN</td>\n",
       "      <td>5.068904</td>\n",
       "      <td>19000000.0</td>\n",
       "      <td>10000</td>\n",
       "      <td>Free</td>\n",
       "      <td>0.0</td>\n",
       "      <td>Everyone</td>\n",
       "      <td>high</td>\n",
       "    </tr>\n",
       "    <tr>\n",
       "      <th>1</th>\n",
       "      <td>ART_AND_DESIGN</td>\n",
       "      <td>6.874198</td>\n",
       "      <td>14000000.0</td>\n",
       "      <td>500000</td>\n",
       "      <td>Free</td>\n",
       "      <td>0.0</td>\n",
       "      <td>Everyone</td>\n",
       "      <td>high</td>\n",
       "    </tr>\n",
       "    <tr>\n",
       "      <th>2</th>\n",
       "      <td>ART_AND_DESIGN</td>\n",
       "      <td>11.379508</td>\n",
       "      <td>8700000.0</td>\n",
       "      <td>5000000</td>\n",
       "      <td>Free</td>\n",
       "      <td>0.0</td>\n",
       "      <td>Everyone</td>\n",
       "      <td>high</td>\n",
       "    </tr>\n",
       "    <tr>\n",
       "      <th>3</th>\n",
       "      <td>ART_AND_DESIGN</td>\n",
       "      <td>12.281384</td>\n",
       "      <td>25000000.0</td>\n",
       "      <td>50000000</td>\n",
       "      <td>Free</td>\n",
       "      <td>0.0</td>\n",
       "      <td>Teen</td>\n",
       "      <td>high</td>\n",
       "    </tr>\n",
       "    <tr>\n",
       "      <th>4</th>\n",
       "      <td>ART_AND_DESIGN</td>\n",
       "      <td>6.874198</td>\n",
       "      <td>2800000.0</td>\n",
       "      <td>100000</td>\n",
       "      <td>Free</td>\n",
       "      <td>0.0</td>\n",
       "      <td>Everyone</td>\n",
       "      <td>high</td>\n",
       "    </tr>\n",
       "  </tbody>\n",
       "</table>\n",
       "</div>"
      ],
      "text/plain": [
       "         Category    Reviews        Size  Installs  Type  Price  \\\n",
       "0  ART_AND_DESIGN   5.068904  19000000.0     10000  Free    0.0   \n",
       "1  ART_AND_DESIGN   6.874198  14000000.0    500000  Free    0.0   \n",
       "2  ART_AND_DESIGN  11.379508   8700000.0   5000000  Free    0.0   \n",
       "3  ART_AND_DESIGN  12.281384  25000000.0  50000000  Free    0.0   \n",
       "4  ART_AND_DESIGN   6.874198   2800000.0    100000  Free    0.0   \n",
       "\n",
       "  Content Rating Rating_Category  \n",
       "0       Everyone            high  \n",
       "1       Everyone            high  \n",
       "2       Everyone            high  \n",
       "3           Teen            high  \n",
       "4       Everyone            high  "
      ]
     },
     "execution_count": 59,
     "metadata": {},
     "output_type": "execute_result"
    }
   ],
   "source": [
    "df.head()"
   ]
  },
  {
   "cell_type": "markdown",
   "id": "52434c24",
   "metadata": {
    "ExecuteTime": {
     "end_time": "2024-02-04T07:50:20.911582Z",
     "start_time": "2024-02-04T07:50:20.904835Z"
    }
   },
   "source": [
    "<h4> 13. Encode the categorical columns </h4>"
   ]
  },
  {
   "cell_type": "markdown",
   "id": "d57cef94",
   "metadata": {},
   "source": [
    "- To encode the categorical columns, we have opted for the LabelEncoder method. \n",
    "  This choice was made due to the substantial number of unique values present in each feature. \n",
    "    Using alternative encoding methods could result in a dataset that is not only voluminous but also challenging to comprehend and interpret. \n",
    "    Therefore, the LabelEncoder method was selected for its efficiency in handling large categorical datasets, ensuring a more manageable and \n",
    "    interpretable representation."
   ]
  },
  {
   "cell_type": "code",
   "execution_count": 60,
   "id": "f419f7b2",
   "metadata": {
    "ExecuteTime": {
     "end_time": "2024-02-26T17:37:24.547590Z",
     "start_time": "2024-02-26T17:37:24.387586Z"
    }
   },
   "outputs": [],
   "source": [
    "# Importing Label Encoder in order to perform label encoding\n",
    "from sklearn.preprocessing import LabelEncoder"
   ]
  },
  {
   "cell_type": "code",
   "execution_count": 61,
   "id": "64dcf70c",
   "metadata": {
    "ExecuteTime": {
     "end_time": "2024-02-26T17:37:24.552533Z",
     "start_time": "2024-02-26T17:37:24.549588Z"
    }
   },
   "outputs": [],
   "source": [
    "labelencoder = LabelEncoder() #creating the object of class"
   ]
  },
  {
   "cell_type": "code",
   "execution_count": 62,
   "id": "718ea949",
   "metadata": {
    "ExecuteTime": {
     "end_time": "2024-02-26T17:37:24.567106Z",
     "start_time": "2024-02-26T17:37:24.554531Z"
    }
   },
   "outputs": [],
   "source": [
    "#running the loop on all the columns with object type and applying labelencoding on them\n",
    "for col in df.columns:\n",
    "    if df[col].dtypes == 'object':\n",
    "        df[col] = labelencoder.fit_transform(df[col]) "
   ]
  },
  {
   "cell_type": "code",
   "execution_count": 63,
   "id": "c7a90946",
   "metadata": {
    "ExecuteTime": {
     "end_time": "2024-02-26T17:37:24.583094Z",
     "start_time": "2024-02-26T17:37:24.568108Z"
    },
    "scrolled": true
   },
   "outputs": [
    {
     "data": {
      "text/html": [
       "<div>\n",
       "<style scoped>\n",
       "    .dataframe tbody tr th:only-of-type {\n",
       "        vertical-align: middle;\n",
       "    }\n",
       "\n",
       "    .dataframe tbody tr th {\n",
       "        vertical-align: top;\n",
       "    }\n",
       "\n",
       "    .dataframe thead th {\n",
       "        text-align: right;\n",
       "    }\n",
       "</style>\n",
       "<table border=\"1\" class=\"dataframe\">\n",
       "  <thead>\n",
       "    <tr style=\"text-align: right;\">\n",
       "      <th></th>\n",
       "      <th>Category</th>\n",
       "      <th>Reviews</th>\n",
       "      <th>Size</th>\n",
       "      <th>Installs</th>\n",
       "      <th>Type</th>\n",
       "      <th>Price</th>\n",
       "      <th>Content Rating</th>\n",
       "      <th>Rating_Category</th>\n",
       "    </tr>\n",
       "  </thead>\n",
       "  <tbody>\n",
       "    <tr>\n",
       "      <th>0</th>\n",
       "      <td>0</td>\n",
       "      <td>5.068904</td>\n",
       "      <td>19000000.0</td>\n",
       "      <td>10000</td>\n",
       "      <td>0</td>\n",
       "      <td>0.0</td>\n",
       "      <td>1</td>\n",
       "      <td>0</td>\n",
       "    </tr>\n",
       "    <tr>\n",
       "      <th>1</th>\n",
       "      <td>0</td>\n",
       "      <td>6.874198</td>\n",
       "      <td>14000000.0</td>\n",
       "      <td>500000</td>\n",
       "      <td>0</td>\n",
       "      <td>0.0</td>\n",
       "      <td>1</td>\n",
       "      <td>0</td>\n",
       "    </tr>\n",
       "    <tr>\n",
       "      <th>2</th>\n",
       "      <td>0</td>\n",
       "      <td>11.379508</td>\n",
       "      <td>8700000.0</td>\n",
       "      <td>5000000</td>\n",
       "      <td>0</td>\n",
       "      <td>0.0</td>\n",
       "      <td>1</td>\n",
       "      <td>0</td>\n",
       "    </tr>\n",
       "    <tr>\n",
       "      <th>3</th>\n",
       "      <td>0</td>\n",
       "      <td>12.281384</td>\n",
       "      <td>25000000.0</td>\n",
       "      <td>50000000</td>\n",
       "      <td>0</td>\n",
       "      <td>0.0</td>\n",
       "      <td>4</td>\n",
       "      <td>0</td>\n",
       "    </tr>\n",
       "    <tr>\n",
       "      <th>4</th>\n",
       "      <td>0</td>\n",
       "      <td>6.874198</td>\n",
       "      <td>2800000.0</td>\n",
       "      <td>100000</td>\n",
       "      <td>0</td>\n",
       "      <td>0.0</td>\n",
       "      <td>1</td>\n",
       "      <td>0</td>\n",
       "    </tr>\n",
       "    <tr>\n",
       "      <th>...</th>\n",
       "      <td>...</td>\n",
       "      <td>...</td>\n",
       "      <td>...</td>\n",
       "      <td>...</td>\n",
       "      <td>...</td>\n",
       "      <td>...</td>\n",
       "      <td>...</td>\n",
       "      <td>...</td>\n",
       "    </tr>\n",
       "    <tr>\n",
       "      <th>10833</th>\n",
       "      <td>3</td>\n",
       "      <td>3.784190</td>\n",
       "      <td>619000.0</td>\n",
       "      <td>1000</td>\n",
       "      <td>0</td>\n",
       "      <td>0.0</td>\n",
       "      <td>1</td>\n",
       "      <td>0</td>\n",
       "    </tr>\n",
       "    <tr>\n",
       "      <th>10834</th>\n",
       "      <td>11</td>\n",
       "      <td>1.945910</td>\n",
       "      <td>2600000.0</td>\n",
       "      <td>500</td>\n",
       "      <td>0</td>\n",
       "      <td>0.0</td>\n",
       "      <td>1</td>\n",
       "      <td>0</td>\n",
       "    </tr>\n",
       "    <tr>\n",
       "      <th>10836</th>\n",
       "      <td>11</td>\n",
       "      <td>3.637586</td>\n",
       "      <td>53000000.0</td>\n",
       "      <td>5000</td>\n",
       "      <td>0</td>\n",
       "      <td>0.0</td>\n",
       "      <td>1</td>\n",
       "      <td>0</td>\n",
       "    </tr>\n",
       "    <tr>\n",
       "      <th>10837</th>\n",
       "      <td>11</td>\n",
       "      <td>1.386294</td>\n",
       "      <td>3600000.0</td>\n",
       "      <td>100</td>\n",
       "      <td>0</td>\n",
       "      <td>0.0</td>\n",
       "      <td>1</td>\n",
       "      <td>0</td>\n",
       "    </tr>\n",
       "    <tr>\n",
       "      <th>10840</th>\n",
       "      <td>18</td>\n",
       "      <td>12.894978</td>\n",
       "      <td>19000000.0</td>\n",
       "      <td>10000000</td>\n",
       "      <td>0</td>\n",
       "      <td>0.0</td>\n",
       "      <td>1</td>\n",
       "      <td>0</td>\n",
       "    </tr>\n",
       "  </tbody>\n",
       "</table>\n",
       "<p>7424 rows × 8 columns</p>\n",
       "</div>"
      ],
      "text/plain": [
       "       Category    Reviews        Size  Installs  Type  Price  Content Rating  \\\n",
       "0             0   5.068904  19000000.0     10000     0    0.0               1   \n",
       "1             0   6.874198  14000000.0    500000     0    0.0               1   \n",
       "2             0  11.379508   8700000.0   5000000     0    0.0               1   \n",
       "3             0  12.281384  25000000.0  50000000     0    0.0               4   \n",
       "4             0   6.874198   2800000.0    100000     0    0.0               1   \n",
       "...         ...        ...         ...       ...   ...    ...             ...   \n",
       "10833         3   3.784190    619000.0      1000     0    0.0               1   \n",
       "10834        11   1.945910   2600000.0       500     0    0.0               1   \n",
       "10836        11   3.637586  53000000.0      5000     0    0.0               1   \n",
       "10837        11   1.386294   3600000.0       100     0    0.0               1   \n",
       "10840        18  12.894978  19000000.0  10000000     0    0.0               1   \n",
       "\n",
       "       Rating_Category  \n",
       "0                    0  \n",
       "1                    0  \n",
       "2                    0  \n",
       "3                    0  \n",
       "4                    0  \n",
       "...                ...  \n",
       "10833                0  \n",
       "10834                0  \n",
       "10836                0  \n",
       "10837                0  \n",
       "10840                0  \n",
       "\n",
       "[7424 rows x 8 columns]"
      ]
     },
     "execution_count": 63,
     "metadata": {},
     "output_type": "execute_result"
    }
   ],
   "source": [
    "df"
   ]
  },
  {
   "cell_type": "markdown",
   "id": "3ff0d652",
   "metadata": {
    "ExecuteTime": {
     "end_time": "2024-02-04T10:09:59.063737Z",
     "start_time": "2024-02-04T10:09:59.055984Z"
    }
   },
   "source": [
    "<h4> 14. Segregate the target and independent features (Hint: Use Rating_category as the target) </h4>"
   ]
  },
  {
   "cell_type": "code",
   "execution_count": 64,
   "id": "0a68585a",
   "metadata": {
    "ExecuteTime": {
     "end_time": "2024-02-26T17:37:24.591349Z",
     "start_time": "2024-02-26T17:37:24.585096Z"
    }
   },
   "outputs": [],
   "source": [
    "# Creating variable X with all Independent Variables.\n",
    "X = df.drop('Rating_Category', axis=1)\n",
    "# Creating variable Y with Dependent Variable.\n",
    "Y = df['Rating_Category']"
   ]
  },
  {
   "cell_type": "code",
   "execution_count": 65,
   "id": "af910cc6",
   "metadata": {
    "ExecuteTime": {
     "end_time": "2024-02-26T17:37:24.605513Z",
     "start_time": "2024-02-26T17:37:24.592862Z"
    }
   },
   "outputs": [
    {
     "data": {
      "text/html": [
       "<div>\n",
       "<style scoped>\n",
       "    .dataframe tbody tr th:only-of-type {\n",
       "        vertical-align: middle;\n",
       "    }\n",
       "\n",
       "    .dataframe tbody tr th {\n",
       "        vertical-align: top;\n",
       "    }\n",
       "\n",
       "    .dataframe thead th {\n",
       "        text-align: right;\n",
       "    }\n",
       "</style>\n",
       "<table border=\"1\" class=\"dataframe\">\n",
       "  <thead>\n",
       "    <tr style=\"text-align: right;\">\n",
       "      <th></th>\n",
       "      <th>Category</th>\n",
       "      <th>Reviews</th>\n",
       "      <th>Size</th>\n",
       "      <th>Installs</th>\n",
       "      <th>Type</th>\n",
       "      <th>Price</th>\n",
       "      <th>Content Rating</th>\n",
       "    </tr>\n",
       "  </thead>\n",
       "  <tbody>\n",
       "    <tr>\n",
       "      <th>0</th>\n",
       "      <td>0</td>\n",
       "      <td>5.068904</td>\n",
       "      <td>19000000.0</td>\n",
       "      <td>10000</td>\n",
       "      <td>0</td>\n",
       "      <td>0.0</td>\n",
       "      <td>1</td>\n",
       "    </tr>\n",
       "    <tr>\n",
       "      <th>1</th>\n",
       "      <td>0</td>\n",
       "      <td>6.874198</td>\n",
       "      <td>14000000.0</td>\n",
       "      <td>500000</td>\n",
       "      <td>0</td>\n",
       "      <td>0.0</td>\n",
       "      <td>1</td>\n",
       "    </tr>\n",
       "    <tr>\n",
       "      <th>2</th>\n",
       "      <td>0</td>\n",
       "      <td>11.379508</td>\n",
       "      <td>8700000.0</td>\n",
       "      <td>5000000</td>\n",
       "      <td>0</td>\n",
       "      <td>0.0</td>\n",
       "      <td>1</td>\n",
       "    </tr>\n",
       "    <tr>\n",
       "      <th>3</th>\n",
       "      <td>0</td>\n",
       "      <td>12.281384</td>\n",
       "      <td>25000000.0</td>\n",
       "      <td>50000000</td>\n",
       "      <td>0</td>\n",
       "      <td>0.0</td>\n",
       "      <td>4</td>\n",
       "    </tr>\n",
       "    <tr>\n",
       "      <th>4</th>\n",
       "      <td>0</td>\n",
       "      <td>6.874198</td>\n",
       "      <td>2800000.0</td>\n",
       "      <td>100000</td>\n",
       "      <td>0</td>\n",
       "      <td>0.0</td>\n",
       "      <td>1</td>\n",
       "    </tr>\n",
       "    <tr>\n",
       "      <th>...</th>\n",
       "      <td>...</td>\n",
       "      <td>...</td>\n",
       "      <td>...</td>\n",
       "      <td>...</td>\n",
       "      <td>...</td>\n",
       "      <td>...</td>\n",
       "      <td>...</td>\n",
       "    </tr>\n",
       "    <tr>\n",
       "      <th>10833</th>\n",
       "      <td>3</td>\n",
       "      <td>3.784190</td>\n",
       "      <td>619000.0</td>\n",
       "      <td>1000</td>\n",
       "      <td>0</td>\n",
       "      <td>0.0</td>\n",
       "      <td>1</td>\n",
       "    </tr>\n",
       "    <tr>\n",
       "      <th>10834</th>\n",
       "      <td>11</td>\n",
       "      <td>1.945910</td>\n",
       "      <td>2600000.0</td>\n",
       "      <td>500</td>\n",
       "      <td>0</td>\n",
       "      <td>0.0</td>\n",
       "      <td>1</td>\n",
       "    </tr>\n",
       "    <tr>\n",
       "      <th>10836</th>\n",
       "      <td>11</td>\n",
       "      <td>3.637586</td>\n",
       "      <td>53000000.0</td>\n",
       "      <td>5000</td>\n",
       "      <td>0</td>\n",
       "      <td>0.0</td>\n",
       "      <td>1</td>\n",
       "    </tr>\n",
       "    <tr>\n",
       "      <th>10837</th>\n",
       "      <td>11</td>\n",
       "      <td>1.386294</td>\n",
       "      <td>3600000.0</td>\n",
       "      <td>100</td>\n",
       "      <td>0</td>\n",
       "      <td>0.0</td>\n",
       "      <td>1</td>\n",
       "    </tr>\n",
       "    <tr>\n",
       "      <th>10840</th>\n",
       "      <td>18</td>\n",
       "      <td>12.894978</td>\n",
       "      <td>19000000.0</td>\n",
       "      <td>10000000</td>\n",
       "      <td>0</td>\n",
       "      <td>0.0</td>\n",
       "      <td>1</td>\n",
       "    </tr>\n",
       "  </tbody>\n",
       "</table>\n",
       "<p>7424 rows × 7 columns</p>\n",
       "</div>"
      ],
      "text/plain": [
       "       Category    Reviews        Size  Installs  Type  Price  Content Rating\n",
       "0             0   5.068904  19000000.0     10000     0    0.0               1\n",
       "1             0   6.874198  14000000.0    500000     0    0.0               1\n",
       "2             0  11.379508   8700000.0   5000000     0    0.0               1\n",
       "3             0  12.281384  25000000.0  50000000     0    0.0               4\n",
       "4             0   6.874198   2800000.0    100000     0    0.0               1\n",
       "...         ...        ...         ...       ...   ...    ...             ...\n",
       "10833         3   3.784190    619000.0      1000     0    0.0               1\n",
       "10834        11   1.945910   2600000.0       500     0    0.0               1\n",
       "10836        11   3.637586  53000000.0      5000     0    0.0               1\n",
       "10837        11   1.386294   3600000.0       100     0    0.0               1\n",
       "10840        18  12.894978  19000000.0  10000000     0    0.0               1\n",
       "\n",
       "[7424 rows x 7 columns]"
      ]
     },
     "execution_count": 65,
     "metadata": {},
     "output_type": "execute_result"
    }
   ],
   "source": [
    "X"
   ]
  },
  {
   "cell_type": "code",
   "execution_count": 66,
   "id": "e8021857",
   "metadata": {
    "ExecuteTime": {
     "end_time": "2024-02-26T17:37:24.614908Z",
     "start_time": "2024-02-26T17:37:24.607513Z"
    }
   },
   "outputs": [
    {
     "data": {
      "text/plain": [
       "0        0\n",
       "1        0\n",
       "2        0\n",
       "3        0\n",
       "4        0\n",
       "        ..\n",
       "10833    0\n",
       "10834    0\n",
       "10836    0\n",
       "10837    0\n",
       "10840    0\n",
       "Name: Rating_Category, Length: 7424, dtype: int32"
      ]
     },
     "execution_count": 66,
     "metadata": {},
     "output_type": "execute_result"
    }
   ],
   "source": [
    "Y"
   ]
  },
  {
   "cell_type": "markdown",
   "id": "e62301e3",
   "metadata": {
    "ExecuteTime": {
     "end_time": "2024-02-04T10:17:35.702930Z",
     "start_time": "2024-02-04T10:17:35.698594Z"
    }
   },
   "source": [
    "<h4> 15. Split the dataset into train and test. </h4>"
   ]
  },
  {
   "cell_type": "code",
   "execution_count": 67,
   "id": "671b9ecb",
   "metadata": {
    "ExecuteTime": {
     "end_time": "2024-02-26T17:37:24.738220Z",
     "start_time": "2024-02-26T17:37:24.615911Z"
    }
   },
   "outputs": [],
   "source": [
    "# importing library to splitting the dataset.\n",
    "from sklearn.model_selection import train_test_split"
   ]
  },
  {
   "cell_type": "code",
   "execution_count": 68,
   "id": "dddb1686",
   "metadata": {
    "ExecuteTime": {
     "end_time": "2024-02-26T17:37:24.746531Z",
     "start_time": "2024-02-26T17:37:24.739221Z"
    }
   },
   "outputs": [],
   "source": [
    "#Spliting the data set into Train and Test.\n",
    "X_train, X_test, Y_train, Y_test = train_test_split(X,Y,test_size=0.3,random_state=42)"
   ]
  },
  {
   "cell_type": "code",
   "execution_count": 69,
   "id": "d81f9dda",
   "metadata": {
    "ExecuteTime": {
     "end_time": "2024-02-26T17:37:24.760433Z",
     "start_time": "2024-02-26T17:37:24.748530Z"
    },
    "scrolled": true
   },
   "outputs": [
    {
     "data": {
      "text/html": [
       "<div>\n",
       "<style scoped>\n",
       "    .dataframe tbody tr th:only-of-type {\n",
       "        vertical-align: middle;\n",
       "    }\n",
       "\n",
       "    .dataframe tbody tr th {\n",
       "        vertical-align: top;\n",
       "    }\n",
       "\n",
       "    .dataframe thead th {\n",
       "        text-align: right;\n",
       "    }\n",
       "</style>\n",
       "<table border=\"1\" class=\"dataframe\">\n",
       "  <thead>\n",
       "    <tr style=\"text-align: right;\">\n",
       "      <th></th>\n",
       "      <th>Category</th>\n",
       "      <th>Reviews</th>\n",
       "      <th>Size</th>\n",
       "      <th>Installs</th>\n",
       "      <th>Type</th>\n",
       "      <th>Price</th>\n",
       "      <th>Content Rating</th>\n",
       "    </tr>\n",
       "  </thead>\n",
       "  <tbody>\n",
       "    <tr>\n",
       "      <th>6799</th>\n",
       "      <td>27</td>\n",
       "      <td>5.062595</td>\n",
       "      <td>26000000.0</td>\n",
       "      <td>50000</td>\n",
       "      <td>0</td>\n",
       "      <td>0.0</td>\n",
       "      <td>3</td>\n",
       "    </tr>\n",
       "    <tr>\n",
       "      <th>428</th>\n",
       "      <td>6</td>\n",
       "      <td>12.158000</td>\n",
       "      <td>11000000.0</td>\n",
       "      <td>10000000</td>\n",
       "      <td>0</td>\n",
       "      <td>0.0</td>\n",
       "      <td>1</td>\n",
       "    </tr>\n",
       "    <tr>\n",
       "      <th>3304</th>\n",
       "      <td>29</td>\n",
       "      <td>9.424484</td>\n",
       "      <td>5300000.0</td>\n",
       "      <td>1000000</td>\n",
       "      <td>0</td>\n",
       "      <td>0.0</td>\n",
       "      <td>1</td>\n",
       "    </tr>\n",
       "    <tr>\n",
       "      <th>5662</th>\n",
       "      <td>28</td>\n",
       "      <td>2.833213</td>\n",
       "      <td>14000000.0</td>\n",
       "      <td>1000</td>\n",
       "      <td>0</td>\n",
       "      <td>0.0</td>\n",
       "      <td>1</td>\n",
       "    </tr>\n",
       "    <tr>\n",
       "      <th>3714</th>\n",
       "      <td>31</td>\n",
       "      <td>10.561784</td>\n",
       "      <td>89000000.0</td>\n",
       "      <td>1000000</td>\n",
       "      <td>0</td>\n",
       "      <td>0.0</td>\n",
       "      <td>1</td>\n",
       "    </tr>\n",
       "    <tr>\n",
       "      <th>...</th>\n",
       "      <td>...</td>\n",
       "      <td>...</td>\n",
       "      <td>...</td>\n",
       "      <td>...</td>\n",
       "      <td>...</td>\n",
       "      <td>...</td>\n",
       "      <td>...</td>\n",
       "    </tr>\n",
       "    <tr>\n",
       "      <th>7754</th>\n",
       "      <td>28</td>\n",
       "      <td>2.833213</td>\n",
       "      <td>1500000.0</td>\n",
       "      <td>50</td>\n",
       "      <td>0</td>\n",
       "      <td>0.0</td>\n",
       "      <td>1</td>\n",
       "    </tr>\n",
       "    <tr>\n",
       "      <th>7795</th>\n",
       "      <td>11</td>\n",
       "      <td>7.791523</td>\n",
       "      <td>6700000.0</td>\n",
       "      <td>50000</td>\n",
       "      <td>0</td>\n",
       "      <td>0.0</td>\n",
       "      <td>4</td>\n",
       "    </tr>\n",
       "    <tr>\n",
       "      <th>7988</th>\n",
       "      <td>11</td>\n",
       "      <td>9.704488</td>\n",
       "      <td>13000000.0</td>\n",
       "      <td>500000</td>\n",
       "      <td>0</td>\n",
       "      <td>0.0</td>\n",
       "      <td>4</td>\n",
       "    </tr>\n",
       "    <tr>\n",
       "      <th>1446</th>\n",
       "      <td>16</td>\n",
       "      <td>12.943014</td>\n",
       "      <td>34000000.0</td>\n",
       "      <td>10000000</td>\n",
       "      <td>0</td>\n",
       "      <td>0.0</td>\n",
       "      <td>1</td>\n",
       "    </tr>\n",
       "    <tr>\n",
       "      <th>10599</th>\n",
       "      <td>25</td>\n",
       "      <td>1.791759</td>\n",
       "      <td>43000000.0</td>\n",
       "      <td>500</td>\n",
       "      <td>0</td>\n",
       "      <td>0.0</td>\n",
       "      <td>1</td>\n",
       "    </tr>\n",
       "  </tbody>\n",
       "</table>\n",
       "<p>5196 rows × 7 columns</p>\n",
       "</div>"
      ],
      "text/plain": [
       "       Category    Reviews        Size  Installs  Type  Price  Content Rating\n",
       "6799         27   5.062595  26000000.0     50000     0    0.0               3\n",
       "428           6  12.158000  11000000.0  10000000     0    0.0               1\n",
       "3304         29   9.424484   5300000.0   1000000     0    0.0               1\n",
       "5662         28   2.833213  14000000.0      1000     0    0.0               1\n",
       "3714         31  10.561784  89000000.0   1000000     0    0.0               1\n",
       "...         ...        ...         ...       ...   ...    ...             ...\n",
       "7754         28   2.833213   1500000.0        50     0    0.0               1\n",
       "7795         11   7.791523   6700000.0     50000     0    0.0               4\n",
       "7988         11   9.704488  13000000.0    500000     0    0.0               4\n",
       "1446         16  12.943014  34000000.0  10000000     0    0.0               1\n",
       "10599        25   1.791759  43000000.0       500     0    0.0               1\n",
       "\n",
       "[5196 rows x 7 columns]"
      ]
     },
     "execution_count": 69,
     "metadata": {},
     "output_type": "execute_result"
    }
   ],
   "source": [
    "X_train"
   ]
  },
  {
   "cell_type": "code",
   "execution_count": 70,
   "id": "76cbc0e6",
   "metadata": {
    "ExecuteTime": {
     "end_time": "2024-02-26T17:37:24.776163Z",
     "start_time": "2024-02-26T17:37:24.763431Z"
    },
    "scrolled": true
   },
   "outputs": [
    {
     "data": {
      "text/html": [
       "<div>\n",
       "<style scoped>\n",
       "    .dataframe tbody tr th:only-of-type {\n",
       "        vertical-align: middle;\n",
       "    }\n",
       "\n",
       "    .dataframe tbody tr th {\n",
       "        vertical-align: top;\n",
       "    }\n",
       "\n",
       "    .dataframe thead th {\n",
       "        text-align: right;\n",
       "    }\n",
       "</style>\n",
       "<table border=\"1\" class=\"dataframe\">\n",
       "  <thead>\n",
       "    <tr style=\"text-align: right;\">\n",
       "      <th></th>\n",
       "      <th>Category</th>\n",
       "      <th>Reviews</th>\n",
       "      <th>Size</th>\n",
       "      <th>Installs</th>\n",
       "      <th>Type</th>\n",
       "      <th>Price</th>\n",
       "      <th>Content Rating</th>\n",
       "    </tr>\n",
       "  </thead>\n",
       "  <tbody>\n",
       "    <tr>\n",
       "      <th>1867</th>\n",
       "      <td>14</td>\n",
       "      <td>12.321693</td>\n",
       "      <td>81000000.0</td>\n",
       "      <td>5000000</td>\n",
       "      <td>0</td>\n",
       "      <td>0.00</td>\n",
       "      <td>4</td>\n",
       "    </tr>\n",
       "    <tr>\n",
       "      <th>4414</th>\n",
       "      <td>14</td>\n",
       "      <td>4.382027</td>\n",
       "      <td>7600000.0</td>\n",
       "      <td>10000</td>\n",
       "      <td>0</td>\n",
       "      <td>0.00</td>\n",
       "      <td>1</td>\n",
       "    </tr>\n",
       "    <tr>\n",
       "      <th>116</th>\n",
       "      <td>2</td>\n",
       "      <td>4.304065</td>\n",
       "      <td>2900000.0</td>\n",
       "      <td>10000</td>\n",
       "      <td>0</td>\n",
       "      <td>0.00</td>\n",
       "      <td>1</td>\n",
       "    </tr>\n",
       "    <tr>\n",
       "      <th>7608</th>\n",
       "      <td>11</td>\n",
       "      <td>10.575232</td>\n",
       "      <td>98000000.0</td>\n",
       "      <td>1000000</td>\n",
       "      <td>0</td>\n",
       "      <td>0.00</td>\n",
       "      <td>1</td>\n",
       "    </tr>\n",
       "    <tr>\n",
       "      <th>9463</th>\n",
       "      <td>11</td>\n",
       "      <td>10.794071</td>\n",
       "      <td>68000000.0</td>\n",
       "      <td>5000000</td>\n",
       "      <td>0</td>\n",
       "      <td>0.00</td>\n",
       "      <td>1</td>\n",
       "    </tr>\n",
       "    <tr>\n",
       "      <th>...</th>\n",
       "      <td>...</td>\n",
       "      <td>...</td>\n",
       "      <td>...</td>\n",
       "      <td>...</td>\n",
       "      <td>...</td>\n",
       "      <td>...</td>\n",
       "      <td>...</td>\n",
       "    </tr>\n",
       "    <tr>\n",
       "      <th>6666</th>\n",
       "      <td>11</td>\n",
       "      <td>11.234784</td>\n",
       "      <td>30000000.0</td>\n",
       "      <td>5000000</td>\n",
       "      <td>0</td>\n",
       "      <td>0.00</td>\n",
       "      <td>1</td>\n",
       "    </tr>\n",
       "    <tr>\n",
       "      <th>5645</th>\n",
       "      <td>14</td>\n",
       "      <td>9.964865</td>\n",
       "      <td>45000000.0</td>\n",
       "      <td>100000</td>\n",
       "      <td>1</td>\n",
       "      <td>2.99</td>\n",
       "      <td>4</td>\n",
       "    </tr>\n",
       "    <tr>\n",
       "      <th>457</th>\n",
       "      <td>6</td>\n",
       "      <td>11.716642</td>\n",
       "      <td>30000000.0</td>\n",
       "      <td>1000000</td>\n",
       "      <td>0</td>\n",
       "      <td>0.00</td>\n",
       "      <td>1</td>\n",
       "    </tr>\n",
       "    <tr>\n",
       "      <th>4151</th>\n",
       "      <td>29</td>\n",
       "      <td>13.661444</td>\n",
       "      <td>7900000.0</td>\n",
       "      <td>100000000</td>\n",
       "      <td>0</td>\n",
       "      <td>0.00</td>\n",
       "      <td>1</td>\n",
       "    </tr>\n",
       "    <tr>\n",
       "      <th>5541</th>\n",
       "      <td>14</td>\n",
       "      <td>9.855872</td>\n",
       "      <td>90000000.0</td>\n",
       "      <td>100000</td>\n",
       "      <td>0</td>\n",
       "      <td>0.00</td>\n",
       "      <td>2</td>\n",
       "    </tr>\n",
       "  </tbody>\n",
       "</table>\n",
       "<p>2228 rows × 7 columns</p>\n",
       "</div>"
      ],
      "text/plain": [
       "      Category    Reviews        Size   Installs  Type  Price  Content Rating\n",
       "1867        14  12.321693  81000000.0    5000000     0   0.00               4\n",
       "4414        14   4.382027   7600000.0      10000     0   0.00               1\n",
       "116          2   4.304065   2900000.0      10000     0   0.00               1\n",
       "7608        11  10.575232  98000000.0    1000000     0   0.00               1\n",
       "9463        11  10.794071  68000000.0    5000000     0   0.00               1\n",
       "...        ...        ...         ...        ...   ...    ...             ...\n",
       "6666        11  11.234784  30000000.0    5000000     0   0.00               1\n",
       "5645        14   9.964865  45000000.0     100000     1   2.99               4\n",
       "457          6  11.716642  30000000.0    1000000     0   0.00               1\n",
       "4151        29  13.661444   7900000.0  100000000     0   0.00               1\n",
       "5541        14   9.855872  90000000.0     100000     0   0.00               2\n",
       "\n",
       "[2228 rows x 7 columns]"
      ]
     },
     "execution_count": 70,
     "metadata": {},
     "output_type": "execute_result"
    }
   ],
   "source": [
    "X_test"
   ]
  },
  {
   "cell_type": "code",
   "execution_count": 71,
   "id": "3f8f05fc",
   "metadata": {
    "ExecuteTime": {
     "end_time": "2024-02-26T17:37:24.784197Z",
     "start_time": "2024-02-26T17:37:24.778166Z"
    },
    "scrolled": true
   },
   "outputs": [
    {
     "data": {
      "text/plain": [
       "6799     0\n",
       "428      0\n",
       "3304     0\n",
       "5662     1\n",
       "3714     0\n",
       "        ..\n",
       "7754     0\n",
       "7795     0\n",
       "7988     0\n",
       "1446     0\n",
       "10599    0\n",
       "Name: Rating_Category, Length: 5196, dtype: int32"
      ]
     },
     "execution_count": 71,
     "metadata": {},
     "output_type": "execute_result"
    }
   ],
   "source": [
    "Y_train"
   ]
  },
  {
   "cell_type": "code",
   "execution_count": 72,
   "id": "e317bf30",
   "metadata": {
    "ExecuteTime": {
     "end_time": "2024-02-26T17:37:24.793208Z",
     "start_time": "2024-02-26T17:37:24.786200Z"
    },
    "scrolled": true
   },
   "outputs": [
    {
     "data": {
      "text/plain": [
       "1867    0\n",
       "4414    0\n",
       "116     0\n",
       "7608    0\n",
       "9463    0\n",
       "       ..\n",
       "6666    0\n",
       "5645    0\n",
       "457     0\n",
       "4151    0\n",
       "5541    0\n",
       "Name: Rating_Category, Length: 2228, dtype: int32"
      ]
     },
     "execution_count": 72,
     "metadata": {},
     "output_type": "execute_result"
    }
   ],
   "source": [
    "Y_test"
   ]
  },
  {
   "cell_type": "markdown",
   "id": "0df527cf",
   "metadata": {
    "ExecuteTime": {
     "end_time": "2024-02-04T10:29:45.579857Z",
     "start_time": "2024-02-04T10:29:45.571795Z"
    }
   },
   "source": [
    "<h4>16. Standardize the data, so that the values are within a particular range.</h4>"
   ]
  },
  {
   "cell_type": "code",
   "execution_count": 73,
   "id": "0ae54e34",
   "metadata": {
    "ExecuteTime": {
     "end_time": "2024-02-26T17:37:24.799366Z",
     "start_time": "2024-02-26T17:37:24.795208Z"
    }
   },
   "outputs": [],
   "source": [
    "#Importing necessary libraries to Standardize the data.\n",
    "from sklearn.preprocessing import StandardScaler"
   ]
  },
  {
   "cell_type": "code",
   "execution_count": 74,
   "id": "dfb04dba",
   "metadata": {
    "ExecuteTime": {
     "end_time": "2024-02-26T17:37:24.804410Z",
     "start_time": "2024-02-26T17:37:24.800367Z"
    }
   },
   "outputs": [],
   "source": [
    "scaler = StandardScaler()"
   ]
  },
  {
   "cell_type": "code",
   "execution_count": 75,
   "id": "736d5efb",
   "metadata": {
    "ExecuteTime": {
     "end_time": "2024-02-26T17:37:24.814757Z",
     "start_time": "2024-02-26T17:37:24.805412Z"
    }
   },
   "outputs": [],
   "source": [
    "# Performing Standardization of data\n",
    "df = scaler.fit_transform(df)"
   ]
  },
  {
   "cell_type": "code",
   "execution_count": 76,
   "id": "f751d988",
   "metadata": {
    "ExecuteTime": {
     "end_time": "2024-02-26T17:37:24.820873Z",
     "start_time": "2024-02-26T17:37:24.815759Z"
    }
   },
   "outputs": [
    {
     "data": {
      "text/plain": [
       "array([[-2.03766618, -0.67995305, -0.15992777, ..., -0.06305842,\n",
       "        -0.46322046, -0.35358018],\n",
       "       [-2.03766618, -0.19653147, -0.37330014, ..., -0.06305842,\n",
       "        -0.46322046, -0.35358018],\n",
       "       [-2.03766618,  1.0099001 , -0.59947486, ..., -0.06305842,\n",
       "        -0.46322046, -0.35358018],\n",
       "       ...,\n",
       "       [-0.68621673, -1.0632313 ,  1.29100439, ..., -0.06305842,\n",
       "        -0.46322046, -0.35358018],\n",
       "       [-0.68621673, -1.66608206, -0.81711468, ..., -0.06305842,\n",
       "        -0.46322046, -0.35358018],\n",
       "       [ 0.17379656,  1.41571255, -0.15992777, ..., -0.06305842,\n",
       "        -0.46322046, -0.35358018]])"
      ]
     },
     "execution_count": 76,
     "metadata": {},
     "output_type": "execute_result"
    }
   ],
   "source": [
    "df"
   ]
  },
  {
   "cell_type": "code",
   "execution_count": 77,
   "id": "914f0935",
   "metadata": {
    "ExecuteTime": {
     "end_time": "2024-02-26T17:37:24.828101Z",
     "start_time": "2024-02-26T17:37:24.823868Z"
    }
   },
   "outputs": [],
   "source": [
    "# Converting Array's back to Pandas DataFrame.\n",
    "df = pd.DataFrame(df)"
   ]
  },
  {
   "cell_type": "code",
   "execution_count": 78,
   "id": "5a19f708",
   "metadata": {
    "ExecuteTime": {
     "end_time": "2024-02-26T17:37:24.911869Z",
     "start_time": "2024-02-26T17:37:24.830103Z"
    },
    "scrolled": false
   },
   "outputs": [
    {
     "data": {
      "text/html": [
       "<div>\n",
       "<style scoped>\n",
       "    .dataframe tbody tr th:only-of-type {\n",
       "        vertical-align: middle;\n",
       "    }\n",
       "\n",
       "    .dataframe tbody tr th {\n",
       "        vertical-align: top;\n",
       "    }\n",
       "\n",
       "    .dataframe thead th {\n",
       "        text-align: right;\n",
       "    }\n",
       "</style>\n",
       "<table border=\"1\" class=\"dataframe\">\n",
       "  <thead>\n",
       "    <tr style=\"text-align: right;\">\n",
       "      <th></th>\n",
       "      <th>0</th>\n",
       "      <th>1</th>\n",
       "      <th>2</th>\n",
       "      <th>3</th>\n",
       "      <th>4</th>\n",
       "      <th>5</th>\n",
       "      <th>6</th>\n",
       "      <th>7</th>\n",
       "    </tr>\n",
       "  </thead>\n",
       "  <tbody>\n",
       "    <tr>\n",
       "      <th>0</th>\n",
       "      <td>-2.037666</td>\n",
       "      <td>-0.679953</td>\n",
       "      <td>-0.159928</td>\n",
       "      <td>-0.168764</td>\n",
       "      <td>-0.282029</td>\n",
       "      <td>-0.063058</td>\n",
       "      <td>-0.463220</td>\n",
       "      <td>-0.35358</td>\n",
       "    </tr>\n",
       "    <tr>\n",
       "      <th>1</th>\n",
       "      <td>-2.037666</td>\n",
       "      <td>-0.196531</td>\n",
       "      <td>-0.373300</td>\n",
       "      <td>-0.158181</td>\n",
       "      <td>-0.282029</td>\n",
       "      <td>-0.063058</td>\n",
       "      <td>-0.463220</td>\n",
       "      <td>-0.35358</td>\n",
       "    </tr>\n",
       "    <tr>\n",
       "      <th>2</th>\n",
       "      <td>-2.037666</td>\n",
       "      <td>1.009900</td>\n",
       "      <td>-0.599475</td>\n",
       "      <td>-0.060990</td>\n",
       "      <td>-0.282029</td>\n",
       "      <td>-0.063058</td>\n",
       "      <td>-0.463220</td>\n",
       "      <td>-0.35358</td>\n",
       "    </tr>\n",
       "    <tr>\n",
       "      <th>3</th>\n",
       "      <td>-2.037666</td>\n",
       "      <td>1.251404</td>\n",
       "      <td>0.096119</td>\n",
       "      <td>0.910911</td>\n",
       "      <td>-0.282029</td>\n",
       "      <td>-0.063058</td>\n",
       "      <td>2.517665</td>\n",
       "      <td>-0.35358</td>\n",
       "    </tr>\n",
       "    <tr>\n",
       "      <th>4</th>\n",
       "      <td>-2.037666</td>\n",
       "      <td>-0.196531</td>\n",
       "      <td>-0.851254</td>\n",
       "      <td>-0.166820</td>\n",
       "      <td>-0.282029</td>\n",
       "      <td>-0.063058</td>\n",
       "      <td>-0.463220</td>\n",
       "      <td>-0.35358</td>\n",
       "    </tr>\n",
       "    <tr>\n",
       "      <th>...</th>\n",
       "      <td>...</td>\n",
       "      <td>...</td>\n",
       "      <td>...</td>\n",
       "      <td>...</td>\n",
       "      <td>...</td>\n",
       "      <td>...</td>\n",
       "      <td>...</td>\n",
       "      <td>...</td>\n",
       "    </tr>\n",
       "    <tr>\n",
       "      <th>7419</th>\n",
       "      <td>-1.669089</td>\n",
       "      <td>-1.023974</td>\n",
       "      <td>-0.944327</td>\n",
       "      <td>-0.168958</td>\n",
       "      <td>-0.282029</td>\n",
       "      <td>-0.063058</td>\n",
       "      <td>-0.463220</td>\n",
       "      <td>-0.35358</td>\n",
       "    </tr>\n",
       "    <tr>\n",
       "      <th>7420</th>\n",
       "      <td>-0.686217</td>\n",
       "      <td>-1.516228</td>\n",
       "      <td>-0.859789</td>\n",
       "      <td>-0.168969</td>\n",
       "      <td>-0.282029</td>\n",
       "      <td>-0.063058</td>\n",
       "      <td>-0.463220</td>\n",
       "      <td>-0.35358</td>\n",
       "    </tr>\n",
       "    <tr>\n",
       "      <th>7421</th>\n",
       "      <td>-0.686217</td>\n",
       "      <td>-1.063231</td>\n",
       "      <td>1.291004</td>\n",
       "      <td>-0.168872</td>\n",
       "      <td>-0.282029</td>\n",
       "      <td>-0.063058</td>\n",
       "      <td>-0.463220</td>\n",
       "      <td>-0.35358</td>\n",
       "    </tr>\n",
       "    <tr>\n",
       "      <th>7422</th>\n",
       "      <td>-0.686217</td>\n",
       "      <td>-1.666082</td>\n",
       "      <td>-0.817115</td>\n",
       "      <td>-0.168977</td>\n",
       "      <td>-0.282029</td>\n",
       "      <td>-0.063058</td>\n",
       "      <td>-0.463220</td>\n",
       "      <td>-0.35358</td>\n",
       "    </tr>\n",
       "    <tr>\n",
       "      <th>7423</th>\n",
       "      <td>0.173797</td>\n",
       "      <td>1.415713</td>\n",
       "      <td>-0.159928</td>\n",
       "      <td>0.046999</td>\n",
       "      <td>-0.282029</td>\n",
       "      <td>-0.063058</td>\n",
       "      <td>-0.463220</td>\n",
       "      <td>-0.35358</td>\n",
       "    </tr>\n",
       "  </tbody>\n",
       "</table>\n",
       "<p>7424 rows × 8 columns</p>\n",
       "</div>"
      ],
      "text/plain": [
       "             0         1         2         3         4         5         6  \\\n",
       "0    -2.037666 -0.679953 -0.159928 -0.168764 -0.282029 -0.063058 -0.463220   \n",
       "1    -2.037666 -0.196531 -0.373300 -0.158181 -0.282029 -0.063058 -0.463220   \n",
       "2    -2.037666  1.009900 -0.599475 -0.060990 -0.282029 -0.063058 -0.463220   \n",
       "3    -2.037666  1.251404  0.096119  0.910911 -0.282029 -0.063058  2.517665   \n",
       "4    -2.037666 -0.196531 -0.851254 -0.166820 -0.282029 -0.063058 -0.463220   \n",
       "...        ...       ...       ...       ...       ...       ...       ...   \n",
       "7419 -1.669089 -1.023974 -0.944327 -0.168958 -0.282029 -0.063058 -0.463220   \n",
       "7420 -0.686217 -1.516228 -0.859789 -0.168969 -0.282029 -0.063058 -0.463220   \n",
       "7421 -0.686217 -1.063231  1.291004 -0.168872 -0.282029 -0.063058 -0.463220   \n",
       "7422 -0.686217 -1.666082 -0.817115 -0.168977 -0.282029 -0.063058 -0.463220   \n",
       "7423  0.173797  1.415713 -0.159928  0.046999 -0.282029 -0.063058 -0.463220   \n",
       "\n",
       "            7  \n",
       "0    -0.35358  \n",
       "1    -0.35358  \n",
       "2    -0.35358  \n",
       "3    -0.35358  \n",
       "4    -0.35358  \n",
       "...       ...  \n",
       "7419 -0.35358  \n",
       "7420 -0.35358  \n",
       "7421 -0.35358  \n",
       "7422 -0.35358  \n",
       "7423 -0.35358  \n",
       "\n",
       "[7424 rows x 8 columns]"
      ]
     },
     "execution_count": 78,
     "metadata": {},
     "output_type": "execute_result"
    }
   ],
   "source": [
    "df"
   ]
  },
  {
   "cell_type": "code",
   "execution_count": 79,
   "id": "4b9f1d8d",
   "metadata": {
    "ExecuteTime": {
     "end_time": "2024-02-26T17:37:24.919225Z",
     "start_time": "2024-02-26T17:37:24.914868Z"
    }
   },
   "outputs": [],
   "source": [
    "from IPython.core.interactiveshell import InteractiveShell\n",
    "InteractiveShell.ast_node_interactivity='all'"
   ]
  },
  {
   "cell_type": "code",
   "execution_count": 80,
   "id": "09358a97",
   "metadata": {
    "ExecuteTime": {
     "end_time": "2024-02-26T17:37:24.925996Z",
     "start_time": "2024-02-26T17:37:24.922223Z"
    }
   },
   "outputs": [],
   "source": [
    "import sweetviz"
   ]
  },
  {
   "cell_type": "code",
   "execution_count": 81,
   "id": "422b2267",
   "metadata": {
    "ExecuteTime": {
     "end_time": "2024-02-26T17:37:28.483085Z",
     "start_time": "2024-02-26T17:37:24.927994Z"
    }
   },
   "outputs": [
    {
     "data": {
      "application/vnd.jupyter.widget-view+json": {
       "model_id": "2bd0fca6484844789f9b85723ef281e0",
       "version_major": 2,
       "version_minor": 0
      },
      "text/plain": [
       "                                             |                                             | [  0%]   00:00 ->…"
      ]
     },
     "metadata": {},
     "output_type": "display_data"
    }
   ],
   "source": [
    "Playstore_analysis_report=sweetviz.analyze(df)"
   ]
  },
  {
   "cell_type": "code",
   "execution_count": 83,
   "id": "a49731a7",
   "metadata": {
    "ExecuteTime": {
     "end_time": "2024-02-26T17:39:03.733662Z",
     "start_time": "2024-02-26T17:39:03.344426Z"
    }
   },
   "outputs": [
    {
     "name": "stdout",
     "output_type": "stream",
     "text": [
      "Report Playstore_analysis_report.html was generated! NOTEBOOK/COLAB USERS: the web browser MAY not pop up, regardless, the report IS saved in your notebook/colab files.\n"
     ]
    }
   ],
   "source": [
    "Playstore_analysis_report.show_html(\"Playstore_analysis_report.html\")"
   ]
  }
 ],
 "metadata": {
  "kernelspec": {
   "display_name": "Python 3 (ipykernel)",
   "language": "python",
   "name": "python3"
  },
  "language_info": {
   "codemirror_mode": {
    "name": "ipython",
    "version": 3
   },
   "file_extension": ".py",
   "mimetype": "text/x-python",
   "name": "python",
   "nbconvert_exporter": "python",
   "pygments_lexer": "ipython3",
   "version": "3.11.5"
  },
  "varInspector": {
   "cols": {
    "lenName": 16,
    "lenType": 16,
    "lenVar": 40
   },
   "kernels_config": {
    "python": {
     "delete_cmd_postfix": "",
     "delete_cmd_prefix": "del ",
     "library": "var_list.py",
     "varRefreshCmd": "print(var_dic_list())"
    },
    "r": {
     "delete_cmd_postfix": ") ",
     "delete_cmd_prefix": "rm(",
     "library": "var_list.r",
     "varRefreshCmd": "cat(var_dic_list()) "
    }
   },
   "types_to_exclude": [
    "module",
    "function",
    "builtin_function_or_method",
    "instance",
    "_Feature"
   ],
   "window_display": false
  }
 },
 "nbformat": 4,
 "nbformat_minor": 5
}
